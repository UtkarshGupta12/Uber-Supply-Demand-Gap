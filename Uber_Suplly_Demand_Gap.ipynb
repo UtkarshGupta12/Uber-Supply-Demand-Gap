{
  "nbformat": 4,
  "nbformat_minor": 0,
  "metadata": {
    "colab": {
      "name": "Uber_Suplly-Demand_Gap.ipynb",
      "version": "0.3.2",
      "provenance": [],
      "collapsed_sections": [
        "05dZAdxxpo7l",
        "cwIHZyeu4KuH",
        "csplqkHM99kg",
        "wM_-cC-S_80d",
        "jrkGKBwuEEK3",
        "_uOQeCKRGZEJ"
      ],
      "include_colab_link": true
    },
    "kernelspec": {
      "name": "python3",
      "display_name": "Python 3"
    }
  },
  "cells": [
    {
      "cell_type": "markdown",
      "metadata": {
        "id": "view-in-github",
        "colab_type": "text"
      },
      "source": [
        "<a href=\"https://colab.research.google.com/github/UtkarshGupta12/Uber-Supply-Demand-Gap/blob/master/Uber_Suplly_Demand_Gap.ipynb\" target=\"_parent\"><img src=\"https://colab.research.google.com/assets/colab-badge.svg\" alt=\"Open In Colab\"/></a>"
      ]
    },
    {
      "cell_type": "markdown",
      "metadata": {
        "id": "05dZAdxxpo7l",
        "colab_type": "text"
      },
      "source": [
        "> # **UBER SUPPLY - DEMAND GAP**\n",
        "\n",
        "---\n"
      ]
    },
    {
      "cell_type": "markdown",
      "metadata": {
        "id": "ElcyPURTqaM8",
        "colab_type": "text"
      },
      "source": [
        ">## PROBLEM STATEMENT \n",
        "Driver Cancellations and Non-Availability of cabs to and from Airport leading to loss of potential revenue.\n"
      ]
    },
    {
      "cell_type": "markdown",
      "metadata": {
        "id": "n6vtNbuIro5X",
        "colab_type": "text"
      },
      "source": [
        ">## OBJECTIVE\n",
        "To identify the Supply-Demand gap in cabs from Airport to City and vice versa."
      ]
    },
    {
      "cell_type": "markdown",
      "metadata": {
        "id": "owAXlWdDsFC6",
        "colab_type": "text"
      },
      "source": [
        "> ## Research Questions\n",
        "\n",
        "\n",
        "1.   Identify the most pressing problems for Uber.\n",
        "2.   Are the problems because of drivers .\n",
        "3.  What is the gap between supply and demand to and from Airport.\n",
        "4. What might be the reason for this supply demand gap.\n",
        "5. Frequency of rides from Airport to city or city to Airport w.r.t time of day.\n",
        "6. Recommend some ways to improve the supply-demand gap.\n",
        "\n",
        "\n",
        "\n",
        "\n",
        "\n"
      ]
    },
    {
      "cell_type": "markdown",
      "metadata": {
        "id": "tK4_wPndt9iw",
        "colab_type": "text"
      },
      "source": [
        ">## Data Used for Analysis\n",
        "* The data used is only to and from Airport.\n",
        "* Analysis has been done on data of 5 days."
      ]
    },
    {
      "cell_type": "markdown",
      "metadata": {
        "id": "at2fqOhJvVb_",
        "colab_type": "text"
      },
      "source": [
        ">## How does UBER works ?\n",
        "> **Create an account**\n",
        "\n",
        "> >All you need is an email address and phone number. You can request a ride from your browser or from the Uber app. To download the app, go to the App Store or Google Play.\n",
        "\n",
        " >    **Enter your destination**\n",
        "\n",
        ">>Open the app and enter where you’re going in the Where to? box. Tap to confirm your pickup location and tap Confirm again to be matched to a driver nearby.\n",
        "\n",
        "> **Meet your driver**\n",
        "\n",
        ">> You can track their arrival on the map. When they’re a few minutes away, wait for them at your pickup location.\n",
        "\n",
        "> **Check your ride**\n",
        "\n",
        "> >Every time you take a trip with Uber, please make sure you’re getting into the right car with the right driver by matching the license plate, car make and model, and driver photo with what’s provided in your app.\n",
        "\n",
        ">>Uber trips can only be requested through the app, so never get in a car where the vehicle or driver identity doesn't match what’s displayed in your app.\n",
        "\n",
        "> **Sit back and relax**\n",
        "\n",
        ">> When you arrive, payment is easy. Depending on your region, you have options. Use cash or a payment method like a credit card or Uber Cash balance.\n",
        "\n",
        "> **Rate your trip**\n",
        "\n",
        ">>Let uber know how your trip went. You can also give your driver a compliment or add a tip in the app.\n",
        "\n",
        "\n",
        "\n",
        "\n"
      ]
    },
    {
      "cell_type": "markdown",
      "metadata": {
        "id": "C3hNtUe21mnk",
        "colab_type": "text"
      },
      "source": [
        "> ## COLUMNS DESCRIPTION\n",
        "1. Request id - The unique id provided to a particular uber ride. \n",
        "2. Pickup point - The place where the Customer wishes to take the ride from.\n",
        "3. Driver id - The unique identity provided to every driver of the Uber Cab.\n",
        "4. Status - It shows whether the trip was completed , cancelled or No cabs were available.\n",
        "5. Request timestamp - The date and time when the customer requested to ride the uber cab from a particular place.\n",
        "6. Drop timestamp -The date and time when the customer reaches to a particular place."
      ]
    },
    {
      "cell_type": "markdown",
      "metadata": {
        "id": "cwIHZyeu4KuH",
        "colab_type": "text"
      },
      "source": [
        "># DATA CLEANING\n",
        "\n",
        "---\n",
        "\n",
        "\n",
        "\n"
      ]
    },
    {
      "cell_type": "code",
      "metadata": {
        "id": "bFLno2HA3RjP",
        "colab_type": "code",
        "colab": {}
      },
      "source": [
        "#importing numpy and pandas\n",
        "import numpy as np\n",
        "import pandas as pd"
      ],
      "execution_count": 0,
      "outputs": []
    },
    {
      "cell_type": "code",
      "metadata": {
        "id": "UOl-UIM6p3Ii",
        "colab_type": "code",
        "colab": {}
      },
      "source": [
        "#importing the data as df\n",
        "df = pd.read_csv(\"https://raw.githubusercontent.com/UtkarshGupta12/Uber-Supply-Demand-Gap/master/Uber%20Request%20Data.csv\")"
      ],
      "execution_count": 0,
      "outputs": []
    },
    {
      "cell_type": "code",
      "metadata": {
        "id": "BRIyVJuFnent",
        "colab_type": "code",
        "outputId": "de26cedb-839d-4423-c39d-eed69f284123",
        "colab": {
          "base_uri": "https://localhost:8080/",
          "height": 195
        }
      },
      "source": [
        "df.head()"
      ],
      "execution_count": 45,
      "outputs": [
        {
          "output_type": "execute_result",
          "data": {
            "text/html": [
              "<div>\n",
              "<style scoped>\n",
              "    .dataframe tbody tr th:only-of-type {\n",
              "        vertical-align: middle;\n",
              "    }\n",
              "\n",
              "    .dataframe tbody tr th {\n",
              "        vertical-align: top;\n",
              "    }\n",
              "\n",
              "    .dataframe thead th {\n",
              "        text-align: right;\n",
              "    }\n",
              "</style>\n",
              "<table border=\"1\" class=\"dataframe\">\n",
              "  <thead>\n",
              "    <tr style=\"text-align: right;\">\n",
              "      <th></th>\n",
              "      <th>Request id</th>\n",
              "      <th>Pickup point</th>\n",
              "      <th>Driver id</th>\n",
              "      <th>Status</th>\n",
              "      <th>Request timestamp</th>\n",
              "      <th>Drop timestamp</th>\n",
              "    </tr>\n",
              "  </thead>\n",
              "  <tbody>\n",
              "    <tr>\n",
              "      <th>0</th>\n",
              "      <td>619</td>\n",
              "      <td>Airport</td>\n",
              "      <td>1.0</td>\n",
              "      <td>Trip Completed</td>\n",
              "      <td>11/7/2016 11:51</td>\n",
              "      <td>11/7/2016 13:00</td>\n",
              "    </tr>\n",
              "    <tr>\n",
              "      <th>1</th>\n",
              "      <td>867</td>\n",
              "      <td>Airport</td>\n",
              "      <td>1.0</td>\n",
              "      <td>Trip Completed</td>\n",
              "      <td>11/7/2016 17:57</td>\n",
              "      <td>11/7/2016 18:47</td>\n",
              "    </tr>\n",
              "    <tr>\n",
              "      <th>2</th>\n",
              "      <td>1807</td>\n",
              "      <td>City</td>\n",
              "      <td>1.0</td>\n",
              "      <td>Trip Completed</td>\n",
              "      <td>12/7/2016 9:17</td>\n",
              "      <td>12/7/2016 9:58</td>\n",
              "    </tr>\n",
              "    <tr>\n",
              "      <th>3</th>\n",
              "      <td>2532</td>\n",
              "      <td>Airport</td>\n",
              "      <td>1.0</td>\n",
              "      <td>Trip Completed</td>\n",
              "      <td>12/7/2016 21:08</td>\n",
              "      <td>12/7/2016 22:03</td>\n",
              "    </tr>\n",
              "    <tr>\n",
              "      <th>4</th>\n",
              "      <td>3112</td>\n",
              "      <td>City</td>\n",
              "      <td>1.0</td>\n",
              "      <td>Trip Completed</td>\n",
              "      <td>13-07-2016 08:33:16</td>\n",
              "      <td>13-07-2016 09:25:47</td>\n",
              "    </tr>\n",
              "  </tbody>\n",
              "</table>\n",
              "</div>"
            ],
            "text/plain": [
              "   Request id Pickup point  ...    Request timestamp       Drop timestamp\n",
              "0         619      Airport  ...      11/7/2016 11:51      11/7/2016 13:00\n",
              "1         867      Airport  ...      11/7/2016 17:57      11/7/2016 18:47\n",
              "2        1807         City  ...       12/7/2016 9:17       12/7/2016 9:58\n",
              "3        2532      Airport  ...      12/7/2016 21:08      12/7/2016 22:03\n",
              "4        3112         City  ...  13-07-2016 08:33:16  13-07-2016 09:25:47\n",
              "\n",
              "[5 rows x 6 columns]"
            ]
          },
          "metadata": {
            "tags": []
          },
          "execution_count": 45
        }
      ]
    },
    {
      "cell_type": "code",
      "metadata": {
        "id": "VlxsdrXG4tCy",
        "colab_type": "code",
        "outputId": "4a9c02b4-4b90-491d-fd03-d959380ee29d",
        "colab": {
          "base_uri": "https://localhost:8080/",
          "height": 202
        }
      },
      "source": [
        "df.info()"
      ],
      "execution_count": 46,
      "outputs": [
        {
          "output_type": "stream",
          "text": [
            "<class 'pandas.core.frame.DataFrame'>\n",
            "RangeIndex: 6745 entries, 0 to 6744\n",
            "Data columns (total 6 columns):\n",
            "Request id           6745 non-null int64\n",
            "Pickup point         6745 non-null object\n",
            "Driver id            4095 non-null float64\n",
            "Status               6745 non-null object\n",
            "Request timestamp    6745 non-null object\n",
            "Drop timestamp       2831 non-null object\n",
            "dtypes: float64(1), int64(1), object(4)\n",
            "memory usage: 316.2+ KB\n"
          ],
          "name": "stdout"
        }
      ]
    },
    {
      "cell_type": "code",
      "metadata": {
        "id": "7xcYrfJR4wrQ",
        "colab_type": "code",
        "outputId": "4dd2ec57-f663-4b76-ab05-841013c450e7",
        "colab": {
          "base_uri": "https://localhost:8080/",
          "height": 67
        }
      },
      "source": [
        "#Counting different values of pickup point to be City or Airport.\n",
        "df['Pickup point'].value_counts()"
      ],
      "execution_count": 47,
      "outputs": [
        {
          "output_type": "execute_result",
          "data": {
            "text/plain": [
              "City       3507\n",
              "Airport    3238\n",
              "Name: Pickup point, dtype: int64"
            ]
          },
          "metadata": {
            "tags": []
          },
          "execution_count": 47
        }
      ]
    },
    {
      "cell_type": "code",
      "metadata": {
        "id": "I7y129v04zew",
        "colab_type": "code",
        "outputId": "8017909f-fecc-4711-f380-868f9d67ed75",
        "colab": {
          "base_uri": "https://localhost:8080/",
          "height": 118
        }
      },
      "source": [
        "df['Driver id'].value_counts().tail()"
      ],
      "execution_count": 48,
      "outputs": [
        {
          "output_type": "execute_result",
          "data": {
            "text/plain": [
              "143.0    8\n",
              "123.0    7\n",
              "42.0     7\n",
              "300.0    6\n",
              "265.0    6\n",
              "Name: Driver id, dtype: int64"
            ]
          },
          "metadata": {
            "tags": []
          },
          "execution_count": 48
        }
      ]
    },
    {
      "cell_type": "code",
      "metadata": {
        "id": "dQgbD4gM4z_J",
        "colab_type": "code",
        "outputId": "fd13204b-6333-4b75-b5d8-2756b3627874",
        "colab": {
          "base_uri": "https://localhost:8080/",
          "height": 84
        }
      },
      "source": [
        "#Counting unique values of Status Column\n",
        "df['Status'].value_counts()"
      ],
      "execution_count": 49,
      "outputs": [
        {
          "output_type": "execute_result",
          "data": {
            "text/plain": [
              "Trip Completed       2831\n",
              "No Cars Available    2650\n",
              "Cancelled            1264\n",
              "Name: Status, dtype: int64"
            ]
          },
          "metadata": {
            "tags": []
          },
          "execution_count": 49
        }
      ]
    },
    {
      "cell_type": "code",
      "metadata": {
        "id": "GDxF0qiq40CQ",
        "colab_type": "code",
        "outputId": "51ef64de-5b08-48d5-965c-9e82e865f70e",
        "colab": {
          "base_uri": "https://localhost:8080/",
          "height": 134
        }
      },
      "source": [
        "#Counting null values\n",
        "df.isnull().sum()"
      ],
      "execution_count": 50,
      "outputs": [
        {
          "output_type": "execute_result",
          "data": {
            "text/plain": [
              "Request id              0\n",
              "Pickup point            0\n",
              "Driver id            2650\n",
              "Status                  0\n",
              "Request timestamp       0\n",
              "Drop timestamp       3914\n",
              "dtype: int64"
            ]
          },
          "metadata": {
            "tags": []
          },
          "execution_count": 50
        }
      ]
    },
    {
      "cell_type": "code",
      "metadata": {
        "id": "ZN5vKMb540E8",
        "colab_type": "code",
        "colab": {}
      },
      "source": [
        "#Splitting date and time to different columns\n",
        "Time = df['Request timestamp'].str.split(\" \",n=1,expand = True)\n",
        "df['Request Date']=Time[0]\n",
        "df['Request Time']=Time[1]\n",
        "Time = df['Drop timestamp'].str.split(\" \",n=1,expand = True)\n",
        "df['Drop Date']=Time[0]\n",
        "df['Drop Time']=Time[1]"
      ],
      "execution_count": 0,
      "outputs": []
    },
    {
      "cell_type": "code",
      "metadata": {
        "id": "OkNKtWvq40Hr",
        "colab_type": "code",
        "outputId": "7cd5f9db-3673-4cc4-ac28-f7077957153f",
        "colab": {
          "base_uri": "https://localhost:8080/",
          "height": 195
        }
      },
      "source": [
        "#Removing Timestamp Columns to simplify data\n",
        "df2=df\n",
        "df2=df2.drop('Request timestamp',axis =1)\n",
        "df2=df2.drop('Drop timestamp',axis =1)\n",
        "df2.head()"
      ],
      "execution_count": 52,
      "outputs": [
        {
          "output_type": "execute_result",
          "data": {
            "text/html": [
              "<div>\n",
              "<style scoped>\n",
              "    .dataframe tbody tr th:only-of-type {\n",
              "        vertical-align: middle;\n",
              "    }\n",
              "\n",
              "    .dataframe tbody tr th {\n",
              "        vertical-align: top;\n",
              "    }\n",
              "\n",
              "    .dataframe thead th {\n",
              "        text-align: right;\n",
              "    }\n",
              "</style>\n",
              "<table border=\"1\" class=\"dataframe\">\n",
              "  <thead>\n",
              "    <tr style=\"text-align: right;\">\n",
              "      <th></th>\n",
              "      <th>Request id</th>\n",
              "      <th>Pickup point</th>\n",
              "      <th>Driver id</th>\n",
              "      <th>Status</th>\n",
              "      <th>Request Date</th>\n",
              "      <th>Request Time</th>\n",
              "      <th>Drop Date</th>\n",
              "      <th>Drop Time</th>\n",
              "    </tr>\n",
              "  </thead>\n",
              "  <tbody>\n",
              "    <tr>\n",
              "      <th>0</th>\n",
              "      <td>619</td>\n",
              "      <td>Airport</td>\n",
              "      <td>1.0</td>\n",
              "      <td>Trip Completed</td>\n",
              "      <td>11/7/2016</td>\n",
              "      <td>11:51</td>\n",
              "      <td>11/7/2016</td>\n",
              "      <td>13:00</td>\n",
              "    </tr>\n",
              "    <tr>\n",
              "      <th>1</th>\n",
              "      <td>867</td>\n",
              "      <td>Airport</td>\n",
              "      <td>1.0</td>\n",
              "      <td>Trip Completed</td>\n",
              "      <td>11/7/2016</td>\n",
              "      <td>17:57</td>\n",
              "      <td>11/7/2016</td>\n",
              "      <td>18:47</td>\n",
              "    </tr>\n",
              "    <tr>\n",
              "      <th>2</th>\n",
              "      <td>1807</td>\n",
              "      <td>City</td>\n",
              "      <td>1.0</td>\n",
              "      <td>Trip Completed</td>\n",
              "      <td>12/7/2016</td>\n",
              "      <td>9:17</td>\n",
              "      <td>12/7/2016</td>\n",
              "      <td>9:58</td>\n",
              "    </tr>\n",
              "    <tr>\n",
              "      <th>3</th>\n",
              "      <td>2532</td>\n",
              "      <td>Airport</td>\n",
              "      <td>1.0</td>\n",
              "      <td>Trip Completed</td>\n",
              "      <td>12/7/2016</td>\n",
              "      <td>21:08</td>\n",
              "      <td>12/7/2016</td>\n",
              "      <td>22:03</td>\n",
              "    </tr>\n",
              "    <tr>\n",
              "      <th>4</th>\n",
              "      <td>3112</td>\n",
              "      <td>City</td>\n",
              "      <td>1.0</td>\n",
              "      <td>Trip Completed</td>\n",
              "      <td>13-07-2016</td>\n",
              "      <td>08:33:16</td>\n",
              "      <td>13-07-2016</td>\n",
              "      <td>09:25:47</td>\n",
              "    </tr>\n",
              "  </tbody>\n",
              "</table>\n",
              "</div>"
            ],
            "text/plain": [
              "   Request id Pickup point  Driver id  ... Request Time   Drop Date Drop Time\n",
              "0         619      Airport        1.0  ...        11:51   11/7/2016     13:00\n",
              "1         867      Airport        1.0  ...        17:57   11/7/2016     18:47\n",
              "2        1807         City        1.0  ...         9:17   12/7/2016      9:58\n",
              "3        2532      Airport        1.0  ...        21:08   12/7/2016     22:03\n",
              "4        3112         City        1.0  ...     08:33:16  13-07-2016  09:25:47\n",
              "\n",
              "[5 rows x 8 columns]"
            ]
          },
          "metadata": {
            "tags": []
          },
          "execution_count": 52
        }
      ]
    },
    {
      "cell_type": "code",
      "metadata": {
        "id": "js6JKrxu50LG",
        "colab_type": "code",
        "outputId": "5a47b5bf-c724-410c-9ed7-5c821ff239a9",
        "colab": {
          "base_uri": "https://localhost:8080/",
          "height": 195
        }
      },
      "source": [
        "#Replacing '/' with '-' to get all the data in the same format\n",
        "df2['Request Date']=df2['Request Date'].str.replace('/', '-')\n",
        "import datetime as dt\n",
        "#Converting into datetime format of day-month-year\n",
        "df2['Request Date']=df2['Request Date'].apply(lambda x: dt.datetime.strptime(x,'%d-%m-%Y'))\n",
        "df2.head()"
      ],
      "execution_count": 53,
      "outputs": [
        {
          "output_type": "execute_result",
          "data": {
            "text/html": [
              "<div>\n",
              "<style scoped>\n",
              "    .dataframe tbody tr th:only-of-type {\n",
              "        vertical-align: middle;\n",
              "    }\n",
              "\n",
              "    .dataframe tbody tr th {\n",
              "        vertical-align: top;\n",
              "    }\n",
              "\n",
              "    .dataframe thead th {\n",
              "        text-align: right;\n",
              "    }\n",
              "</style>\n",
              "<table border=\"1\" class=\"dataframe\">\n",
              "  <thead>\n",
              "    <tr style=\"text-align: right;\">\n",
              "      <th></th>\n",
              "      <th>Request id</th>\n",
              "      <th>Pickup point</th>\n",
              "      <th>Driver id</th>\n",
              "      <th>Status</th>\n",
              "      <th>Request Date</th>\n",
              "      <th>Request Time</th>\n",
              "      <th>Drop Date</th>\n",
              "      <th>Drop Time</th>\n",
              "    </tr>\n",
              "  </thead>\n",
              "  <tbody>\n",
              "    <tr>\n",
              "      <th>0</th>\n",
              "      <td>619</td>\n",
              "      <td>Airport</td>\n",
              "      <td>1.0</td>\n",
              "      <td>Trip Completed</td>\n",
              "      <td>2016-07-11</td>\n",
              "      <td>11:51</td>\n",
              "      <td>11/7/2016</td>\n",
              "      <td>13:00</td>\n",
              "    </tr>\n",
              "    <tr>\n",
              "      <th>1</th>\n",
              "      <td>867</td>\n",
              "      <td>Airport</td>\n",
              "      <td>1.0</td>\n",
              "      <td>Trip Completed</td>\n",
              "      <td>2016-07-11</td>\n",
              "      <td>17:57</td>\n",
              "      <td>11/7/2016</td>\n",
              "      <td>18:47</td>\n",
              "    </tr>\n",
              "    <tr>\n",
              "      <th>2</th>\n",
              "      <td>1807</td>\n",
              "      <td>City</td>\n",
              "      <td>1.0</td>\n",
              "      <td>Trip Completed</td>\n",
              "      <td>2016-07-12</td>\n",
              "      <td>9:17</td>\n",
              "      <td>12/7/2016</td>\n",
              "      <td>9:58</td>\n",
              "    </tr>\n",
              "    <tr>\n",
              "      <th>3</th>\n",
              "      <td>2532</td>\n",
              "      <td>Airport</td>\n",
              "      <td>1.0</td>\n",
              "      <td>Trip Completed</td>\n",
              "      <td>2016-07-12</td>\n",
              "      <td>21:08</td>\n",
              "      <td>12/7/2016</td>\n",
              "      <td>22:03</td>\n",
              "    </tr>\n",
              "    <tr>\n",
              "      <th>4</th>\n",
              "      <td>3112</td>\n",
              "      <td>City</td>\n",
              "      <td>1.0</td>\n",
              "      <td>Trip Completed</td>\n",
              "      <td>2016-07-13</td>\n",
              "      <td>08:33:16</td>\n",
              "      <td>13-07-2016</td>\n",
              "      <td>09:25:47</td>\n",
              "    </tr>\n",
              "  </tbody>\n",
              "</table>\n",
              "</div>"
            ],
            "text/plain": [
              "   Request id Pickup point  Driver id  ... Request Time   Drop Date Drop Time\n",
              "0         619      Airport        1.0  ...        11:51   11/7/2016     13:00\n",
              "1         867      Airport        1.0  ...        17:57   11/7/2016     18:47\n",
              "2        1807         City        1.0  ...         9:17   12/7/2016      9:58\n",
              "3        2532      Airport        1.0  ...        21:08   12/7/2016     22:03\n",
              "4        3112         City        1.0  ...     08:33:16  13-07-2016  09:25:47\n",
              "\n",
              "[5 rows x 8 columns]"
            ]
          },
          "metadata": {
            "tags": []
          },
          "execution_count": 53
        }
      ]
    },
    {
      "cell_type": "code",
      "metadata": {
        "id": "GzXrtOMt40KC",
        "colab_type": "code",
        "outputId": "97a6584f-e735-477f-f1c7-8f635122e531",
        "colab": {
          "base_uri": "https://localhost:8080/",
          "height": 296
        }
      },
      "source": [
        "df4=df2\n",
        "#Extracting all the non null columns of Drop Time\n",
        "df4 = df4[df4['Drop Time'].isnull() == False]\n",
        "#Splitting hour , minutes and seconds\n",
        "Test = df4['Drop Time'].str.split(':',n=2,expand = True)\n",
        "#Filling seconds column with 0\n",
        "Test=Test.fillna(0)\n",
        "#Combining again to get the same format \n",
        "Test[3]=Test[0].astype(str) + ':' + Test[1].astype(str) + ':' + Test[2].astype(str)\n",
        "Test[3]=Test[3].apply(lambda x: pd.to_timedelta(x))\n",
        "#Getting a new column which has  datetime in proper format\n",
        "df4['Drop Time']=Test[3]\n",
        "df4=df4.drop('Pickup point',axis=1)\n",
        "df4=df4.drop('Driver id',axis=1)\n",
        "df4=df4.drop('Status',axis=1)\n",
        "df4=df4.drop('Request Date',axis=1)\n",
        "df4=df4.drop('Request Time',axis=1)\n",
        "df4=df4.drop('Drop Date',axis=1)\n",
        "#Merging original data with cleaned data wrt to unique Request id \n",
        "df5=pd.merge(df2,df4,how ='outer',on='Request id')\n",
        "df5=df5.drop('Drop Time_x',axis =1)\n",
        "df5['Drop Time']=df5['Drop Time_y']\n",
        "df5 = df5.drop('Drop Time_y',axis=1)\n",
        "df5.head()"
      ],
      "execution_count": 54,
      "outputs": [
        {
          "output_type": "stream",
          "text": [
            "/usr/local/lib/python3.6/dist-packages/ipykernel_launcher.py:7: SettingWithCopyWarning: \n",
            "A value is trying to be set on a copy of a slice from a DataFrame.\n",
            "Try using .loc[row_indexer,col_indexer] = value instead\n",
            "\n",
            "See the caveats in the documentation: http://pandas.pydata.org/pandas-docs/stable/indexing.html#indexing-view-versus-copy\n",
            "  import sys\n"
          ],
          "name": "stderr"
        },
        {
          "output_type": "execute_result",
          "data": {
            "text/html": [
              "<div>\n",
              "<style scoped>\n",
              "    .dataframe tbody tr th:only-of-type {\n",
              "        vertical-align: middle;\n",
              "    }\n",
              "\n",
              "    .dataframe tbody tr th {\n",
              "        vertical-align: top;\n",
              "    }\n",
              "\n",
              "    .dataframe thead th {\n",
              "        text-align: right;\n",
              "    }\n",
              "</style>\n",
              "<table border=\"1\" class=\"dataframe\">\n",
              "  <thead>\n",
              "    <tr style=\"text-align: right;\">\n",
              "      <th></th>\n",
              "      <th>Request id</th>\n",
              "      <th>Pickup point</th>\n",
              "      <th>Driver id</th>\n",
              "      <th>Status</th>\n",
              "      <th>Request Date</th>\n",
              "      <th>Request Time</th>\n",
              "      <th>Drop Date</th>\n",
              "      <th>Drop Time</th>\n",
              "    </tr>\n",
              "  </thead>\n",
              "  <tbody>\n",
              "    <tr>\n",
              "      <th>0</th>\n",
              "      <td>619</td>\n",
              "      <td>Airport</td>\n",
              "      <td>1.0</td>\n",
              "      <td>Trip Completed</td>\n",
              "      <td>2016-07-11</td>\n",
              "      <td>11:51</td>\n",
              "      <td>11/7/2016</td>\n",
              "      <td>13:00:00</td>\n",
              "    </tr>\n",
              "    <tr>\n",
              "      <th>1</th>\n",
              "      <td>867</td>\n",
              "      <td>Airport</td>\n",
              "      <td>1.0</td>\n",
              "      <td>Trip Completed</td>\n",
              "      <td>2016-07-11</td>\n",
              "      <td>17:57</td>\n",
              "      <td>11/7/2016</td>\n",
              "      <td>18:47:00</td>\n",
              "    </tr>\n",
              "    <tr>\n",
              "      <th>2</th>\n",
              "      <td>1807</td>\n",
              "      <td>City</td>\n",
              "      <td>1.0</td>\n",
              "      <td>Trip Completed</td>\n",
              "      <td>2016-07-12</td>\n",
              "      <td>9:17</td>\n",
              "      <td>12/7/2016</td>\n",
              "      <td>09:58:00</td>\n",
              "    </tr>\n",
              "    <tr>\n",
              "      <th>3</th>\n",
              "      <td>2532</td>\n",
              "      <td>Airport</td>\n",
              "      <td>1.0</td>\n",
              "      <td>Trip Completed</td>\n",
              "      <td>2016-07-12</td>\n",
              "      <td>21:08</td>\n",
              "      <td>12/7/2016</td>\n",
              "      <td>22:03:00</td>\n",
              "    </tr>\n",
              "    <tr>\n",
              "      <th>4</th>\n",
              "      <td>3112</td>\n",
              "      <td>City</td>\n",
              "      <td>1.0</td>\n",
              "      <td>Trip Completed</td>\n",
              "      <td>2016-07-13</td>\n",
              "      <td>08:33:16</td>\n",
              "      <td>13-07-2016</td>\n",
              "      <td>09:25:47</td>\n",
              "    </tr>\n",
              "  </tbody>\n",
              "</table>\n",
              "</div>"
            ],
            "text/plain": [
              "   Request id Pickup point  Driver id  ... Request Time   Drop Date Drop Time\n",
              "0         619      Airport        1.0  ...        11:51   11/7/2016  13:00:00\n",
              "1         867      Airport        1.0  ...        17:57   11/7/2016  18:47:00\n",
              "2        1807         City        1.0  ...         9:17   12/7/2016  09:58:00\n",
              "3        2532      Airport        1.0  ...        21:08   12/7/2016  22:03:00\n",
              "4        3112         City        1.0  ...     08:33:16  13-07-2016  09:25:47\n",
              "\n",
              "[5 rows x 8 columns]"
            ]
          },
          "metadata": {
            "tags": []
          },
          "execution_count": 54
        }
      ]
    },
    {
      "cell_type": "code",
      "metadata": {
        "id": "jLv95CwL40Mr",
        "colab_type": "code",
        "outputId": "f710cbef-2858-41bb-8c3e-2e77a4546adb",
        "colab": {
          "base_uri": "https://localhost:8080/",
          "height": 195
        }
      },
      "source": [
        "#Splitting hour , minutes and seconds\n",
        "Test = df5['Request Time'].str.split(':',n=2,expand=True)\n",
        "#Filling seconds column with 0\n",
        "Test=Test.fillna(0)\n",
        "#Combining again to get the same format\n",
        "Test[3]=Test[0].astype('str')+':'+Test[1].astype('str')+':'+Test[2].astype('str')\n",
        "Test[3]=Test[3].apply(lambda x: pd.to_timedelta(x))\n",
        "df5['Request Time']=Test[3]\n",
        "df3=df5\n",
        "df3['Drop Date']=df3['Drop Date'].str.replace('/','-')\n",
        "df3.head()"
      ],
      "execution_count": 55,
      "outputs": [
        {
          "output_type": "execute_result",
          "data": {
            "text/html": [
              "<div>\n",
              "<style scoped>\n",
              "    .dataframe tbody tr th:only-of-type {\n",
              "        vertical-align: middle;\n",
              "    }\n",
              "\n",
              "    .dataframe tbody tr th {\n",
              "        vertical-align: top;\n",
              "    }\n",
              "\n",
              "    .dataframe thead th {\n",
              "        text-align: right;\n",
              "    }\n",
              "</style>\n",
              "<table border=\"1\" class=\"dataframe\">\n",
              "  <thead>\n",
              "    <tr style=\"text-align: right;\">\n",
              "      <th></th>\n",
              "      <th>Request id</th>\n",
              "      <th>Pickup point</th>\n",
              "      <th>Driver id</th>\n",
              "      <th>Status</th>\n",
              "      <th>Request Date</th>\n",
              "      <th>Request Time</th>\n",
              "      <th>Drop Date</th>\n",
              "      <th>Drop Time</th>\n",
              "    </tr>\n",
              "  </thead>\n",
              "  <tbody>\n",
              "    <tr>\n",
              "      <th>0</th>\n",
              "      <td>619</td>\n",
              "      <td>Airport</td>\n",
              "      <td>1.0</td>\n",
              "      <td>Trip Completed</td>\n",
              "      <td>2016-07-11</td>\n",
              "      <td>11:51:00</td>\n",
              "      <td>11-7-2016</td>\n",
              "      <td>13:00:00</td>\n",
              "    </tr>\n",
              "    <tr>\n",
              "      <th>1</th>\n",
              "      <td>867</td>\n",
              "      <td>Airport</td>\n",
              "      <td>1.0</td>\n",
              "      <td>Trip Completed</td>\n",
              "      <td>2016-07-11</td>\n",
              "      <td>17:57:00</td>\n",
              "      <td>11-7-2016</td>\n",
              "      <td>18:47:00</td>\n",
              "    </tr>\n",
              "    <tr>\n",
              "      <th>2</th>\n",
              "      <td>1807</td>\n",
              "      <td>City</td>\n",
              "      <td>1.0</td>\n",
              "      <td>Trip Completed</td>\n",
              "      <td>2016-07-12</td>\n",
              "      <td>09:17:00</td>\n",
              "      <td>12-7-2016</td>\n",
              "      <td>09:58:00</td>\n",
              "    </tr>\n",
              "    <tr>\n",
              "      <th>3</th>\n",
              "      <td>2532</td>\n",
              "      <td>Airport</td>\n",
              "      <td>1.0</td>\n",
              "      <td>Trip Completed</td>\n",
              "      <td>2016-07-12</td>\n",
              "      <td>21:08:00</td>\n",
              "      <td>12-7-2016</td>\n",
              "      <td>22:03:00</td>\n",
              "    </tr>\n",
              "    <tr>\n",
              "      <th>4</th>\n",
              "      <td>3112</td>\n",
              "      <td>City</td>\n",
              "      <td>1.0</td>\n",
              "      <td>Trip Completed</td>\n",
              "      <td>2016-07-13</td>\n",
              "      <td>08:33:16</td>\n",
              "      <td>13-07-2016</td>\n",
              "      <td>09:25:47</td>\n",
              "    </tr>\n",
              "  </tbody>\n",
              "</table>\n",
              "</div>"
            ],
            "text/plain": [
              "   Request id Pickup point  Driver id  ... Request Time   Drop Date Drop Time\n",
              "0         619      Airport        1.0  ...     11:51:00   11-7-2016  13:00:00\n",
              "1         867      Airport        1.0  ...     17:57:00   11-7-2016  18:47:00\n",
              "2        1807         City        1.0  ...     09:17:00   12-7-2016  09:58:00\n",
              "3        2532      Airport        1.0  ...     21:08:00   12-7-2016  22:03:00\n",
              "4        3112         City        1.0  ...     08:33:16  13-07-2016  09:25:47\n",
              "\n",
              "[5 rows x 8 columns]"
            ]
          },
          "metadata": {
            "tags": []
          },
          "execution_count": 55
        }
      ]
    },
    {
      "cell_type": "code",
      "metadata": {
        "id": "830TmDOF40P9",
        "colab_type": "code",
        "outputId": "05fc7b62-6832-48fe-82aa-240072c3824b",
        "colab": {
          "base_uri": "https://localhost:8080/",
          "height": 296
        }
      },
      "source": [
        "#Selecting non-null objects from the Drop Date column\n",
        "df3 = df3[df3['Drop Date'].isnull() == False]\n",
        "#Combining again to get the same format\n",
        "df3['Drop Date']=df3['Drop Date'].astype(str).apply(lambda x: dt.datetime.strptime(x,'%d-%m-%Y'))\n",
        "df3=df3.drop('Pickup point',axis=1)\n",
        "df3=df3.drop('Driver id',axis=1)\n",
        "df3=df3.drop('Status',axis=1)\n",
        "df3=df3.drop('Request Date',axis=1)\n",
        "df3=df3.drop('Request Time',axis=1)\n",
        "df3=df3.drop('Drop Time',axis=1)\n",
        "#Merging original data with cleaned data wrt to unique Request id \n",
        "df1 = pd.merge(df5,df3,how='outer',on = 'Request id')\n",
        "df1 = df1.drop('Drop Date_x',axis =1)\n",
        "df1['Drop Date']=df1['Drop Date_y']\n",
        "df1=df1.drop('Drop Date_y',axis=1)\n",
        "df1.head()"
      ],
      "execution_count": 56,
      "outputs": [
        {
          "output_type": "stream",
          "text": [
            "/usr/local/lib/python3.6/dist-packages/ipykernel_launcher.py:2: SettingWithCopyWarning: \n",
            "A value is trying to be set on a copy of a slice from a DataFrame.\n",
            "Try using .loc[row_indexer,col_indexer] = value instead\n",
            "\n",
            "See the caveats in the documentation: http://pandas.pydata.org/pandas-docs/stable/indexing.html#indexing-view-versus-copy\n",
            "  \n"
          ],
          "name": "stderr"
        },
        {
          "output_type": "execute_result",
          "data": {
            "text/html": [
              "<div>\n",
              "<style scoped>\n",
              "    .dataframe tbody tr th:only-of-type {\n",
              "        vertical-align: middle;\n",
              "    }\n",
              "\n",
              "    .dataframe tbody tr th {\n",
              "        vertical-align: top;\n",
              "    }\n",
              "\n",
              "    .dataframe thead th {\n",
              "        text-align: right;\n",
              "    }\n",
              "</style>\n",
              "<table border=\"1\" class=\"dataframe\">\n",
              "  <thead>\n",
              "    <tr style=\"text-align: right;\">\n",
              "      <th></th>\n",
              "      <th>Request id</th>\n",
              "      <th>Pickup point</th>\n",
              "      <th>Driver id</th>\n",
              "      <th>Status</th>\n",
              "      <th>Request Date</th>\n",
              "      <th>Request Time</th>\n",
              "      <th>Drop Time</th>\n",
              "      <th>Drop Date</th>\n",
              "    </tr>\n",
              "  </thead>\n",
              "  <tbody>\n",
              "    <tr>\n",
              "      <th>0</th>\n",
              "      <td>619</td>\n",
              "      <td>Airport</td>\n",
              "      <td>1.0</td>\n",
              "      <td>Trip Completed</td>\n",
              "      <td>2016-07-11</td>\n",
              "      <td>11:51:00</td>\n",
              "      <td>13:00:00</td>\n",
              "      <td>2016-07-11</td>\n",
              "    </tr>\n",
              "    <tr>\n",
              "      <th>1</th>\n",
              "      <td>867</td>\n",
              "      <td>Airport</td>\n",
              "      <td>1.0</td>\n",
              "      <td>Trip Completed</td>\n",
              "      <td>2016-07-11</td>\n",
              "      <td>17:57:00</td>\n",
              "      <td>18:47:00</td>\n",
              "      <td>2016-07-11</td>\n",
              "    </tr>\n",
              "    <tr>\n",
              "      <th>2</th>\n",
              "      <td>1807</td>\n",
              "      <td>City</td>\n",
              "      <td>1.0</td>\n",
              "      <td>Trip Completed</td>\n",
              "      <td>2016-07-12</td>\n",
              "      <td>09:17:00</td>\n",
              "      <td>09:58:00</td>\n",
              "      <td>2016-07-12</td>\n",
              "    </tr>\n",
              "    <tr>\n",
              "      <th>3</th>\n",
              "      <td>2532</td>\n",
              "      <td>Airport</td>\n",
              "      <td>1.0</td>\n",
              "      <td>Trip Completed</td>\n",
              "      <td>2016-07-12</td>\n",
              "      <td>21:08:00</td>\n",
              "      <td>22:03:00</td>\n",
              "      <td>2016-07-12</td>\n",
              "    </tr>\n",
              "    <tr>\n",
              "      <th>4</th>\n",
              "      <td>3112</td>\n",
              "      <td>City</td>\n",
              "      <td>1.0</td>\n",
              "      <td>Trip Completed</td>\n",
              "      <td>2016-07-13</td>\n",
              "      <td>08:33:16</td>\n",
              "      <td>09:25:47</td>\n",
              "      <td>2016-07-13</td>\n",
              "    </tr>\n",
              "  </tbody>\n",
              "</table>\n",
              "</div>"
            ],
            "text/plain": [
              "   Request id Pickup point  Driver id  ... Request Time Drop Time  Drop Date\n",
              "0         619      Airport        1.0  ...     11:51:00  13:00:00 2016-07-11\n",
              "1         867      Airport        1.0  ...     17:57:00  18:47:00 2016-07-11\n",
              "2        1807         City        1.0  ...     09:17:00  09:58:00 2016-07-12\n",
              "3        2532      Airport        1.0  ...     21:08:00  22:03:00 2016-07-12\n",
              "4        3112         City        1.0  ...     08:33:16  09:25:47 2016-07-13\n",
              "\n",
              "[5 rows x 8 columns]"
            ]
          },
          "metadata": {
            "tags": []
          },
          "execution_count": 56
        }
      ]
    },
    {
      "cell_type": "code",
      "metadata": {
        "id": "-q4bM-CT9EbF",
        "colab_type": "code",
        "outputId": "b86064da-fdd4-4469-a8fe-be672c467e56",
        "colab": {
          "base_uri": "https://localhost:8080/",
          "height": 195
        }
      },
      "source": [
        "#Filling NaN with 0 so that it can be counted as integer\n",
        "df1['Driver id']=df1['Driver id'].fillna(0).astype('int')\n",
        "#Locating only Airport customers\n",
        "df3=df1.loc[df1['Pickup point']=='Airport']\n",
        "df3 = df3[df3['Drop Time'].isnull()==False]\n",
        "#Calculating journey time \n",
        "df3['Journey Time']=df3['Drop Time'] - df3['Request Time']\n",
        "df3.head()"
      ],
      "execution_count": 57,
      "outputs": [
        {
          "output_type": "execute_result",
          "data": {
            "text/html": [
              "<div>\n",
              "<style scoped>\n",
              "    .dataframe tbody tr th:only-of-type {\n",
              "        vertical-align: middle;\n",
              "    }\n",
              "\n",
              "    .dataframe tbody tr th {\n",
              "        vertical-align: top;\n",
              "    }\n",
              "\n",
              "    .dataframe thead th {\n",
              "        text-align: right;\n",
              "    }\n",
              "</style>\n",
              "<table border=\"1\" class=\"dataframe\">\n",
              "  <thead>\n",
              "    <tr style=\"text-align: right;\">\n",
              "      <th></th>\n",
              "      <th>Request id</th>\n",
              "      <th>Pickup point</th>\n",
              "      <th>Driver id</th>\n",
              "      <th>Status</th>\n",
              "      <th>Request Date</th>\n",
              "      <th>Request Time</th>\n",
              "      <th>Drop Time</th>\n",
              "      <th>Drop Date</th>\n",
              "      <th>Journey Time</th>\n",
              "    </tr>\n",
              "  </thead>\n",
              "  <tbody>\n",
              "    <tr>\n",
              "      <th>0</th>\n",
              "      <td>619</td>\n",
              "      <td>Airport</td>\n",
              "      <td>1</td>\n",
              "      <td>Trip Completed</td>\n",
              "      <td>2016-07-11</td>\n",
              "      <td>11:51:00</td>\n",
              "      <td>13:00:00</td>\n",
              "      <td>2016-07-11</td>\n",
              "      <td>01:09:00</td>\n",
              "    </tr>\n",
              "    <tr>\n",
              "      <th>1</th>\n",
              "      <td>867</td>\n",
              "      <td>Airport</td>\n",
              "      <td>1</td>\n",
              "      <td>Trip Completed</td>\n",
              "      <td>2016-07-11</td>\n",
              "      <td>17:57:00</td>\n",
              "      <td>18:47:00</td>\n",
              "      <td>2016-07-11</td>\n",
              "      <td>00:50:00</td>\n",
              "    </tr>\n",
              "    <tr>\n",
              "      <th>3</th>\n",
              "      <td>2532</td>\n",
              "      <td>Airport</td>\n",
              "      <td>1</td>\n",
              "      <td>Trip Completed</td>\n",
              "      <td>2016-07-12</td>\n",
              "      <td>21:08:00</td>\n",
              "      <td>22:03:00</td>\n",
              "      <td>2016-07-12</td>\n",
              "      <td>00:55:00</td>\n",
              "    </tr>\n",
              "    <tr>\n",
              "      <th>5</th>\n",
              "      <td>3879</td>\n",
              "      <td>Airport</td>\n",
              "      <td>1</td>\n",
              "      <td>Trip Completed</td>\n",
              "      <td>2016-07-13</td>\n",
              "      <td>21:57:28</td>\n",
              "      <td>22:28:59</td>\n",
              "      <td>2016-07-13</td>\n",
              "      <td>00:31:31</td>\n",
              "    </tr>\n",
              "    <tr>\n",
              "      <th>6</th>\n",
              "      <td>4270</td>\n",
              "      <td>Airport</td>\n",
              "      <td>1</td>\n",
              "      <td>Trip Completed</td>\n",
              "      <td>2016-07-14</td>\n",
              "      <td>06:15:32</td>\n",
              "      <td>07:13:15</td>\n",
              "      <td>2016-07-14</td>\n",
              "      <td>00:57:43</td>\n",
              "    </tr>\n",
              "  </tbody>\n",
              "</table>\n",
              "</div>"
            ],
            "text/plain": [
              "   Request id Pickup point  Driver id  ... Drop Time  Drop Date Journey Time\n",
              "0         619      Airport          1  ...  13:00:00 2016-07-11     01:09:00\n",
              "1         867      Airport          1  ...  18:47:00 2016-07-11     00:50:00\n",
              "3        2532      Airport          1  ...  22:03:00 2016-07-12     00:55:00\n",
              "5        3879      Airport          1  ...  22:28:59 2016-07-13     00:31:31\n",
              "6        4270      Airport          1  ...  07:13:15 2016-07-14     00:57:43\n",
              "\n",
              "[5 rows x 9 columns]"
            ]
          },
          "metadata": {
            "tags": []
          },
          "execution_count": 57
        }
      ]
    },
    {
      "cell_type": "markdown",
      "metadata": {
        "id": "csplqkHM99kg",
        "colab_type": "text"
      },
      "source": [
        "># DATA DESCRIPTION \n",
        "\n",
        "---\n",
        "\n"
      ]
    },
    {
      "cell_type": "code",
      "metadata": {
        "id": "DKVelfmk9EqD",
        "colab_type": "code",
        "outputId": "2b10ecf6-8ba7-43ba-d652-b6069fdbfb47",
        "colab": {
          "base_uri": "https://localhost:8080/",
          "height": 195
        }
      },
      "source": [
        "df3.head()"
      ],
      "execution_count": 58,
      "outputs": [
        {
          "output_type": "execute_result",
          "data": {
            "text/html": [
              "<div>\n",
              "<style scoped>\n",
              "    .dataframe tbody tr th:only-of-type {\n",
              "        vertical-align: middle;\n",
              "    }\n",
              "\n",
              "    .dataframe tbody tr th {\n",
              "        vertical-align: top;\n",
              "    }\n",
              "\n",
              "    .dataframe thead th {\n",
              "        text-align: right;\n",
              "    }\n",
              "</style>\n",
              "<table border=\"1\" class=\"dataframe\">\n",
              "  <thead>\n",
              "    <tr style=\"text-align: right;\">\n",
              "      <th></th>\n",
              "      <th>Request id</th>\n",
              "      <th>Pickup point</th>\n",
              "      <th>Driver id</th>\n",
              "      <th>Status</th>\n",
              "      <th>Request Date</th>\n",
              "      <th>Request Time</th>\n",
              "      <th>Drop Time</th>\n",
              "      <th>Drop Date</th>\n",
              "      <th>Journey Time</th>\n",
              "    </tr>\n",
              "  </thead>\n",
              "  <tbody>\n",
              "    <tr>\n",
              "      <th>0</th>\n",
              "      <td>619</td>\n",
              "      <td>Airport</td>\n",
              "      <td>1</td>\n",
              "      <td>Trip Completed</td>\n",
              "      <td>2016-07-11</td>\n",
              "      <td>11:51:00</td>\n",
              "      <td>13:00:00</td>\n",
              "      <td>2016-07-11</td>\n",
              "      <td>01:09:00</td>\n",
              "    </tr>\n",
              "    <tr>\n",
              "      <th>1</th>\n",
              "      <td>867</td>\n",
              "      <td>Airport</td>\n",
              "      <td>1</td>\n",
              "      <td>Trip Completed</td>\n",
              "      <td>2016-07-11</td>\n",
              "      <td>17:57:00</td>\n",
              "      <td>18:47:00</td>\n",
              "      <td>2016-07-11</td>\n",
              "      <td>00:50:00</td>\n",
              "    </tr>\n",
              "    <tr>\n",
              "      <th>3</th>\n",
              "      <td>2532</td>\n",
              "      <td>Airport</td>\n",
              "      <td>1</td>\n",
              "      <td>Trip Completed</td>\n",
              "      <td>2016-07-12</td>\n",
              "      <td>21:08:00</td>\n",
              "      <td>22:03:00</td>\n",
              "      <td>2016-07-12</td>\n",
              "      <td>00:55:00</td>\n",
              "    </tr>\n",
              "    <tr>\n",
              "      <th>5</th>\n",
              "      <td>3879</td>\n",
              "      <td>Airport</td>\n",
              "      <td>1</td>\n",
              "      <td>Trip Completed</td>\n",
              "      <td>2016-07-13</td>\n",
              "      <td>21:57:28</td>\n",
              "      <td>22:28:59</td>\n",
              "      <td>2016-07-13</td>\n",
              "      <td>00:31:31</td>\n",
              "    </tr>\n",
              "    <tr>\n",
              "      <th>6</th>\n",
              "      <td>4270</td>\n",
              "      <td>Airport</td>\n",
              "      <td>1</td>\n",
              "      <td>Trip Completed</td>\n",
              "      <td>2016-07-14</td>\n",
              "      <td>06:15:32</td>\n",
              "      <td>07:13:15</td>\n",
              "      <td>2016-07-14</td>\n",
              "      <td>00:57:43</td>\n",
              "    </tr>\n",
              "  </tbody>\n",
              "</table>\n",
              "</div>"
            ],
            "text/plain": [
              "   Request id Pickup point  Driver id  ... Drop Time  Drop Date Journey Time\n",
              "0         619      Airport          1  ...  13:00:00 2016-07-11     01:09:00\n",
              "1         867      Airport          1  ...  18:47:00 2016-07-11     00:50:00\n",
              "3        2532      Airport          1  ...  22:03:00 2016-07-12     00:55:00\n",
              "5        3879      Airport          1  ...  22:28:59 2016-07-13     00:31:31\n",
              "6        4270      Airport          1  ...  07:13:15 2016-07-14     00:57:43\n",
              "\n",
              "[5 rows x 9 columns]"
            ]
          },
          "metadata": {
            "tags": []
          },
          "execution_count": 58
        }
      ]
    },
    {
      "cell_type": "code",
      "metadata": {
        "id": "LIXfArRX9Esm",
        "colab_type": "code",
        "outputId": "356a49f7-e8d0-41f1-804b-5e15190b2647",
        "colab": {
          "base_uri": "https://localhost:8080/",
          "height": 252
        }
      },
      "source": [
        "df3.info()"
      ],
      "execution_count": 59,
      "outputs": [
        {
          "output_type": "stream",
          "text": [
            "<class 'pandas.core.frame.DataFrame'>\n",
            "Int64Index: 1327 entries, 0 to 2830\n",
            "Data columns (total 9 columns):\n",
            "Request id      1327 non-null int64\n",
            "Pickup point    1327 non-null object\n",
            "Driver id       1327 non-null int64\n",
            "Status          1327 non-null object\n",
            "Request Date    1327 non-null datetime64[ns]\n",
            "Request Time    1327 non-null timedelta64[ns]\n",
            "Drop Time       1327 non-null timedelta64[ns]\n",
            "Drop Date       1327 non-null datetime64[ns]\n",
            "Journey Time    1327 non-null timedelta64[ns]\n",
            "dtypes: datetime64[ns](2), int64(2), object(2), timedelta64[ns](3)\n",
            "memory usage: 103.7+ KB\n"
          ],
          "name": "stdout"
        }
      ]
    },
    {
      "cell_type": "code",
      "metadata": {
        "id": "yOwWaS5g9Eu5",
        "colab_type": "code",
        "outputId": "830070f2-39ac-4868-b76d-6e2ea6705b8a",
        "colab": {
          "base_uri": "https://localhost:8080/",
          "height": 432
        }
      },
      "source": [
        "df3.describe(include='all')"
      ],
      "execution_count": 60,
      "outputs": [
        {
          "output_type": "execute_result",
          "data": {
            "text/html": [
              "<div>\n",
              "<style scoped>\n",
              "    .dataframe tbody tr th:only-of-type {\n",
              "        vertical-align: middle;\n",
              "    }\n",
              "\n",
              "    .dataframe tbody tr th {\n",
              "        vertical-align: top;\n",
              "    }\n",
              "\n",
              "    .dataframe thead th {\n",
              "        text-align: right;\n",
              "    }\n",
              "</style>\n",
              "<table border=\"1\" class=\"dataframe\">\n",
              "  <thead>\n",
              "    <tr style=\"text-align: right;\">\n",
              "      <th></th>\n",
              "      <th>Request id</th>\n",
              "      <th>Pickup point</th>\n",
              "      <th>Driver id</th>\n",
              "      <th>Status</th>\n",
              "      <th>Request Date</th>\n",
              "      <th>Request Time</th>\n",
              "      <th>Drop Time</th>\n",
              "      <th>Drop Date</th>\n",
              "      <th>Journey Time</th>\n",
              "    </tr>\n",
              "  </thead>\n",
              "  <tbody>\n",
              "    <tr>\n",
              "      <th>count</th>\n",
              "      <td>1327.000000</td>\n",
              "      <td>1327</td>\n",
              "      <td>1327.000000</td>\n",
              "      <td>1327</td>\n",
              "      <td>1327</td>\n",
              "      <td>1327</td>\n",
              "      <td>1327</td>\n",
              "      <td>1327</td>\n",
              "      <td>1327</td>\n",
              "    </tr>\n",
              "    <tr>\n",
              "      <th>unique</th>\n",
              "      <td>NaN</td>\n",
              "      <td>1</td>\n",
              "      <td>NaN</td>\n",
              "      <td>1</td>\n",
              "      <td>5</td>\n",
              "      <td>NaN</td>\n",
              "      <td>NaN</td>\n",
              "      <td>6</td>\n",
              "      <td>NaN</td>\n",
              "    </tr>\n",
              "    <tr>\n",
              "      <th>top</th>\n",
              "      <td>NaN</td>\n",
              "      <td>Airport</td>\n",
              "      <td>NaN</td>\n",
              "      <td>Trip Completed</td>\n",
              "      <td>2016-07-13 00:00:00</td>\n",
              "      <td>NaN</td>\n",
              "      <td>NaN</td>\n",
              "      <td>2016-07-13 00:00:00</td>\n",
              "      <td>NaN</td>\n",
              "    </tr>\n",
              "    <tr>\n",
              "      <th>freq</th>\n",
              "      <td>NaN</td>\n",
              "      <td>1327</td>\n",
              "      <td>NaN</td>\n",
              "      <td>1327</td>\n",
              "      <td>298</td>\n",
              "      <td>NaN</td>\n",
              "      <td>NaN</td>\n",
              "      <td>296</td>\n",
              "      <td>NaN</td>\n",
              "    </tr>\n",
              "    <tr>\n",
              "      <th>first</th>\n",
              "      <td>NaN</td>\n",
              "      <td>NaN</td>\n",
              "      <td>NaN</td>\n",
              "      <td>NaN</td>\n",
              "      <td>2016-07-11 00:00:00</td>\n",
              "      <td>NaN</td>\n",
              "      <td>NaN</td>\n",
              "      <td>2016-07-11 00:00:00</td>\n",
              "      <td>NaN</td>\n",
              "    </tr>\n",
              "    <tr>\n",
              "      <th>last</th>\n",
              "      <td>NaN</td>\n",
              "      <td>NaN</td>\n",
              "      <td>NaN</td>\n",
              "      <td>NaN</td>\n",
              "      <td>2016-07-15 00:00:00</td>\n",
              "      <td>NaN</td>\n",
              "      <td>NaN</td>\n",
              "      <td>2016-07-16 00:00:00</td>\n",
              "      <td>NaN</td>\n",
              "    </tr>\n",
              "    <tr>\n",
              "      <th>mean</th>\n",
              "      <td>3253.578749</td>\n",
              "      <td>NaN</td>\n",
              "      <td>146.243406</td>\n",
              "      <td>NaN</td>\n",
              "      <td>NaN</td>\n",
              "      <td>0 days 13:31:58.471740</td>\n",
              "      <td>0 days 13:19:06.225320</td>\n",
              "      <td>NaN</td>\n",
              "      <td>-1 days +23:47:07.753579</td>\n",
              "    </tr>\n",
              "    <tr>\n",
              "      <th>std</th>\n",
              "      <td>1970.929964</td>\n",
              "      <td>NaN</td>\n",
              "      <td>86.050944</td>\n",
              "      <td>NaN</td>\n",
              "      <td>NaN</td>\n",
              "      <td>0 days 06:25:51.680364</td>\n",
              "      <td>0 days 06:40:34.056548</td>\n",
              "      <td>NaN</td>\n",
              "      <td>0 days 04:58:54.831168</td>\n",
              "    </tr>\n",
              "    <tr>\n",
              "      <th>min</th>\n",
              "      <td>1.000000</td>\n",
              "      <td>NaN</td>\n",
              "      <td>1.000000</td>\n",
              "      <td>NaN</td>\n",
              "      <td>NaN</td>\n",
              "      <td>0 days 00:00:00</td>\n",
              "      <td>0 days 00:01:05</td>\n",
              "      <td>NaN</td>\n",
              "      <td>-1 days +00:30:19</td>\n",
              "    </tr>\n",
              "    <tr>\n",
              "      <th>25%</th>\n",
              "      <td>1572.000000</td>\n",
              "      <td>NaN</td>\n",
              "      <td>72.000000</td>\n",
              "      <td>NaN</td>\n",
              "      <td>NaN</td>\n",
              "      <td>0 days 07:46:51</td>\n",
              "      <td>0 days 07:50:00</td>\n",
              "      <td>NaN</td>\n",
              "      <td>0 days 00:39:16.500000</td>\n",
              "    </tr>\n",
              "    <tr>\n",
              "      <th>50%</th>\n",
              "      <td>3117.000000</td>\n",
              "      <td>NaN</td>\n",
              "      <td>143.000000</td>\n",
              "      <td>NaN</td>\n",
              "      <td>NaN</td>\n",
              "      <td>0 days 13:21:10</td>\n",
              "      <td>0 days 13:09:47</td>\n",
              "      <td>NaN</td>\n",
              "      <td>0 days 00:50:17</td>\n",
              "    </tr>\n",
              "    <tr>\n",
              "      <th>75%</th>\n",
              "      <td>4956.000000</td>\n",
              "      <td>NaN</td>\n",
              "      <td>221.000000</td>\n",
              "      <td>NaN</td>\n",
              "      <td>NaN</td>\n",
              "      <td>0 days 19:21:43.500000</td>\n",
              "      <td>0 days 19:25:42.500000</td>\n",
              "      <td>NaN</td>\n",
              "      <td>0 days 01:03:00</td>\n",
              "    </tr>\n",
              "    <tr>\n",
              "      <th>max</th>\n",
              "      <td>6762.000000</td>\n",
              "      <td>NaN</td>\n",
              "      <td>300.000000</td>\n",
              "      <td>NaN</td>\n",
              "      <td>NaN</td>\n",
              "      <td>0 days 23:59:58</td>\n",
              "      <td>0 days 23:59:35</td>\n",
              "      <td>NaN</td>\n",
              "      <td>0 days 01:22:04</td>\n",
              "    </tr>\n",
              "  </tbody>\n",
              "</table>\n",
              "</div>"
            ],
            "text/plain": [
              "         Request id Pickup point  ...            Drop Date              Journey Time\n",
              "count   1327.000000         1327  ...                 1327                      1327\n",
              "unique          NaN            1  ...                    6                       NaN\n",
              "top             NaN      Airport  ...  2016-07-13 00:00:00                       NaN\n",
              "freq            NaN         1327  ...                  296                       NaN\n",
              "first           NaN          NaN  ...  2016-07-11 00:00:00                       NaN\n",
              "last            NaN          NaN  ...  2016-07-16 00:00:00                       NaN\n",
              "mean    3253.578749          NaN  ...                  NaN  -1 days +23:47:07.753579\n",
              "std     1970.929964          NaN  ...                  NaN    0 days 04:58:54.831168\n",
              "min        1.000000          NaN  ...                  NaN         -1 days +00:30:19\n",
              "25%     1572.000000          NaN  ...                  NaN    0 days 00:39:16.500000\n",
              "50%     3117.000000          NaN  ...                  NaN           0 days 00:50:17\n",
              "75%     4956.000000          NaN  ...                  NaN           0 days 01:03:00\n",
              "max     6762.000000          NaN  ...                  NaN           0 days 01:22:04\n",
              "\n",
              "[13 rows x 9 columns]"
            ]
          },
          "metadata": {
            "tags": []
          },
          "execution_count": 60
        }
      ]
    },
    {
      "cell_type": "markdown",
      "metadata": {
        "id": "wM_-cC-S_80d",
        "colab_type": "text"
      },
      "source": [
        "># UNIVARIATE ANALYSIS\n",
        "\n",
        "---\n",
        "\n"
      ]
    },
    {
      "cell_type": "code",
      "metadata": {
        "id": "iDIqEwd59Exu",
        "colab_type": "code",
        "outputId": "eafafbf6-e16d-45f8-fb03-cc5cf50f8bab",
        "colab": {
          "base_uri": "https://localhost:8080/",
          "height": 302
        }
      },
      "source": [
        "df22 = df1\n",
        "#Grouping Status columns to count wrt to date \n",
        "df22=df22.groupby('Status')\n",
        "df22['Request Date'].value_counts()"
      ],
      "execution_count": 61,
      "outputs": [
        {
          "output_type": "execute_result",
          "data": {
            "text/plain": [
              "Status             Request Date\n",
              "Cancelled          2016-07-13      270\n",
              "                   2016-07-11      262\n",
              "                   2016-07-14      252\n",
              "                   2016-07-12      240\n",
              "                   2016-07-15      240\n",
              "No Cars Available  2016-07-15      580\n",
              "                   2016-07-14      571\n",
              "                   2016-07-12      505\n",
              "                   2016-07-11      504\n",
              "                   2016-07-13      490\n",
              "Trip Completed     2016-07-11      601\n",
              "                   2016-07-13      577\n",
              "                   2016-07-12      562\n",
              "                   2016-07-15      561\n",
              "                   2016-07-14      530\n",
              "Name: Request Date, dtype: int64"
            ]
          },
          "metadata": {
            "tags": []
          },
          "execution_count": 61
        }
      ]
    },
    {
      "cell_type": "code",
      "metadata": {
        "id": "eAYNZWN69E0T",
        "colab_type": "code",
        "outputId": "485aaa64-2da2-4684-a907-fb1c8a039b9e",
        "colab": {
          "base_uri": "https://localhost:8080/",
          "height": 195
        }
      },
      "source": [
        "#Locating Completed trip in Status Column\n",
        "df1.loc[(df1['Status']=='Trip Completed')]\n",
        "#Calculating Duration Time\n",
        "df1['Trip Duration']=df1['Drop Time'] - df1['Request Time']\n",
        "#Obtaining different Request date and Drop Date\n",
        "df1.loc[df1['Request Date'] != df1['Drop Date']]\n",
        "#Obtaining the Request time stamp by converting into string for further use\n",
        "df['Request_Timestamp']=df1['Request Date'].astype('str')+' '+df1['Request Time'].astype(str)\n",
        "#Obtaining the Request time stamp by converting into string for further use\n",
        "df['Drop_Timestamp']=df1['Drop Date'].astype('str')+' '+df1['Drop Time'].astype(str)\n",
        "#Removing latter zeroes from string\n",
        "df['Request_Timestamp']=df['Request_Timestamp'].str.replace(r'.000000000', '')\n",
        "df['Drop_Timestamp']=df['Drop_Timestamp'].str.replace(r'.000000000', '')\n",
        "#Converting into Datetime format\n",
        "df['Request_Timestamp']=df['Request_Timestamp'].apply(lambda x: dt.datetime.strptime(x,'%Y-%m-%d 0 days %H:%M:%S'))\n",
        "df0=df\n",
        "df0 = df0[df0['Drop_Timestamp'].isnull()==False]\n",
        "#Obtaining Non-Null Values\n",
        "df0 = df0[df0['Drop_Timestamp'] != 'NaT NaT']\n",
        "#Converting into Datetime format\n",
        "df0['Drop_Timestamp']=df0['Drop_Timestamp'].apply(lambda x: dt.datetime.strptime(x,'%Y-%m-%d 0 days %H:%M:%S'))\n",
        "#Calculating duration\n",
        "df0['Duration'] = df0['Drop_Timestamp'] - df0['Request_Timestamp']\n",
        "df0=df0.drop('Pickup point',axis=1)\n",
        "df0=df0.drop('Driver id',axis=1)\n",
        "df0=df0.drop('Status',axis=1)\n",
        "df0=df0.drop('Request timestamp',axis=1)\n",
        "df0=df0.drop('Drop timestamp',axis=1)\n",
        "df0=df0.drop('Request Date',axis=1)\n",
        "df0=df0.drop('Drop Date',axis=1)\n",
        "df0=df0.drop('Request Time',axis=1)\n",
        "df0=df0.drop('Drop Time',axis=1)\n",
        "df0=df0.drop('Request_Timestamp',axis=1)\n",
        "df0=df0.drop('Drop_Timestamp',axis=1)\n",
        "#Merging wrt to Request id \n",
        "df2 = pd.merge(df1,df0,how='outer',on = 'Request id')\n",
        "df2 = df2.drop('Trip Duration',axis=1)\n",
        "#Dividing into different components to obtain time slot for 6 hours of gaps\n",
        "df2 = df2.assign(Time_Slot = pd.cut(df2['Request Time'].dt.components['hours'] ,[0,6,12,18,24],labels=['Night','Morning','Afternoon','Evening']))\n",
        "df2.head()"
      ],
      "execution_count": 62,
      "outputs": [
        {
          "output_type": "execute_result",
          "data": {
            "text/html": [
              "<div>\n",
              "<style scoped>\n",
              "    .dataframe tbody tr th:only-of-type {\n",
              "        vertical-align: middle;\n",
              "    }\n",
              "\n",
              "    .dataframe tbody tr th {\n",
              "        vertical-align: top;\n",
              "    }\n",
              "\n",
              "    .dataframe thead th {\n",
              "        text-align: right;\n",
              "    }\n",
              "</style>\n",
              "<table border=\"1\" class=\"dataframe\">\n",
              "  <thead>\n",
              "    <tr style=\"text-align: right;\">\n",
              "      <th></th>\n",
              "      <th>Request id</th>\n",
              "      <th>Pickup point</th>\n",
              "      <th>Driver id</th>\n",
              "      <th>Status</th>\n",
              "      <th>Request Date</th>\n",
              "      <th>Request Time</th>\n",
              "      <th>Drop Time</th>\n",
              "      <th>Drop Date</th>\n",
              "      <th>Duration</th>\n",
              "      <th>Time_Slot</th>\n",
              "    </tr>\n",
              "  </thead>\n",
              "  <tbody>\n",
              "    <tr>\n",
              "      <th>0</th>\n",
              "      <td>619</td>\n",
              "      <td>Airport</td>\n",
              "      <td>1</td>\n",
              "      <td>Trip Completed</td>\n",
              "      <td>2016-07-11</td>\n",
              "      <td>11:51:00</td>\n",
              "      <td>13:00:00</td>\n",
              "      <td>2016-07-11</td>\n",
              "      <td>01:09:00</td>\n",
              "      <td>Morning</td>\n",
              "    </tr>\n",
              "    <tr>\n",
              "      <th>1</th>\n",
              "      <td>867</td>\n",
              "      <td>Airport</td>\n",
              "      <td>1</td>\n",
              "      <td>Trip Completed</td>\n",
              "      <td>2016-07-11</td>\n",
              "      <td>17:57:00</td>\n",
              "      <td>18:47:00</td>\n",
              "      <td>2016-07-11</td>\n",
              "      <td>00:50:00</td>\n",
              "      <td>Afternoon</td>\n",
              "    </tr>\n",
              "    <tr>\n",
              "      <th>2</th>\n",
              "      <td>1807</td>\n",
              "      <td>City</td>\n",
              "      <td>1</td>\n",
              "      <td>Trip Completed</td>\n",
              "      <td>2016-07-12</td>\n",
              "      <td>09:17:00</td>\n",
              "      <td>09:58:00</td>\n",
              "      <td>2016-07-12</td>\n",
              "      <td>00:41:00</td>\n",
              "      <td>Morning</td>\n",
              "    </tr>\n",
              "    <tr>\n",
              "      <th>3</th>\n",
              "      <td>2532</td>\n",
              "      <td>Airport</td>\n",
              "      <td>1</td>\n",
              "      <td>Trip Completed</td>\n",
              "      <td>2016-07-12</td>\n",
              "      <td>21:08:00</td>\n",
              "      <td>22:03:00</td>\n",
              "      <td>2016-07-12</td>\n",
              "      <td>00:55:00</td>\n",
              "      <td>Evening</td>\n",
              "    </tr>\n",
              "    <tr>\n",
              "      <th>4</th>\n",
              "      <td>3112</td>\n",
              "      <td>City</td>\n",
              "      <td>1</td>\n",
              "      <td>Trip Completed</td>\n",
              "      <td>2016-07-13</td>\n",
              "      <td>08:33:16</td>\n",
              "      <td>09:25:47</td>\n",
              "      <td>2016-07-13</td>\n",
              "      <td>00:52:31</td>\n",
              "      <td>Morning</td>\n",
              "    </tr>\n",
              "  </tbody>\n",
              "</table>\n",
              "</div>"
            ],
            "text/plain": [
              "   Request id Pickup point  Driver id  ...  Drop Date Duration  Time_Slot\n",
              "0         619      Airport          1  ... 2016-07-11 01:09:00    Morning\n",
              "1         867      Airport          1  ... 2016-07-11 00:50:00  Afternoon\n",
              "2        1807         City          1  ... 2016-07-12 00:41:00    Morning\n",
              "3        2532      Airport          1  ... 2016-07-12 00:55:00    Evening\n",
              "4        3112         City          1  ... 2016-07-13 00:52:31    Morning\n",
              "\n",
              "[5 rows x 10 columns]"
            ]
          },
          "metadata": {
            "tags": []
          },
          "execution_count": 62
        }
      ]
    },
    {
      "cell_type": "code",
      "metadata": {
        "id": "g9GWA8VT9E2t",
        "colab_type": "code",
        "outputId": "ae79641a-a444-4dea-80b3-69cf18485a05",
        "colab": {
          "base_uri": "https://localhost:8080/",
          "height": 155
        }
      },
      "source": [
        "plt.figure(figsize=(7, 1.5))\n",
        "sns.countplot(y='Pickup point',data =df2)\n",
        "plt.show()"
      ],
      "execution_count": 63,
      "outputs": [
        {
          "output_type": "display_data",
          "data": {
            "image/png": "[encoded data removed]",
            "text/plain": [
              "<Figure size 504x108 with 1 Axes>"
            ]
          },
          "metadata": {
            "tags": []
          }
        }
      ]
    },
    {
      "cell_type": "code",
      "metadata": {
        "id": "O3GQN7Kv9E5Q",
        "colab_type": "code",
        "outputId": "70c6071e-a15b-4332-a14c-1092ca7a8f7f",
        "colab": {
          "base_uri": "https://localhost:8080/",
          "height": 365
        }
      },
      "source": [
        "df1 = df1.loc[df2['Driver id'] != 0]\n",
        "plt.figure(figsize=(100,5))\n",
        "sns.countplot(x='Driver id',data =df1)\n",
        "plt.show()"
      ],
      "execution_count": 64,
      "outputs": [
        {
          "output_type": "display_data",
          "data": {
            "image/png": "[encoded data removed]",
            "text/plain": [
              "<Figure size 7200x360 with 1 Axes>"
            ]
          },
          "metadata": {
            "tags": []
          }
        }
      ]
    },
    {
      "cell_type": "code",
      "metadata": {
        "id": "u4V230Tz9E74",
        "colab_type": "code",
        "outputId": "9cb996f7-64c4-490c-b9d3-32037448022b",
        "colab": {
          "base_uri": "https://localhost:8080/",
          "height": 182
        }
      },
      "source": [
        "plt.figure(figsize=(8,2))\n",
        "sns.countplot(y='Status',data=df2,edgecolor=sns.color_palette(\"dark\", 3))\n",
        "plt.show()"
      ],
      "execution_count": 65,
      "outputs": [
        {
          "output_type": "display_data",
          "data": {
            "image/png": "[encoded data removed]",
            "text/plain": [
              "<Figure size 576x144 with 1 Axes>"
            ]
          },
          "metadata": {
            "tags": []
          }
        }
      ]
    },
    {
      "cell_type": "code",
      "metadata": {
        "id": "FfE8xj459E_I",
        "colab_type": "code",
        "outputId": "0b0a707e-e901-46bb-c422-ff8d66c1450e",
        "colab": {
          "base_uri": "https://localhost:8080/",
          "height": 525
        }
      },
      "source": [
        "plt.figure(figsize=(15,8))\n",
        "ax=sns.countplot(x='Request Date',data=df2)\n",
        "plt.ylabel('Frequency')"
      ],
      "execution_count": 103,
      "outputs": [
        {
          "output_type": "execute_result",
          "data": {
            "text/plain": [
              "Text(0, 0.5, 'Frequency')"
            ]
          },
          "metadata": {
            "tags": []
          },
          "execution_count": 103
        },
        {
          "output_type": "display_data",
          "data": {
            "image/png": "[encoded data removed]",
            "text/plain": [
              "<Figure size 1080x576 with 1 Axes>"
            ]
          },
          "metadata": {
            "tags": []
          }
        }
      ]
    },
    {
      "cell_type": "code",
      "metadata": {
        "id": "NvBYMtPg9FB0",
        "colab_type": "code",
        "outputId": "03d18872-3cee-4c83-89b3-4d601df64425",
        "colab": {
          "base_uri": "https://localhost:8080/",
          "height": 345
        }
      },
      "source": [
        "plt.figure(figsize=(8,5))\n",
        "ax=sns.countplot(x='Time_Slot',data=df2,palette=\"ch:.25\",hue='Pickup point')"
      ],
      "execution_count": 90,
      "outputs": [
        {
          "output_type": "display_data",
          "data": {
            "image/png": "[encoded data removed]",
            "text/plain": [
              "<Figure size 576x360 with 1 Axes>"
            ]
          },
          "metadata": {
            "tags": []
          }
        }
      ]
    },
    {
      "cell_type": "code",
      "metadata": {
        "id": "JxC09pTNCjLE",
        "colab_type": "code",
        "outputId": "01d80f25-e7ec-43e8-a61b-09b3c9eca371",
        "colab": {
          "base_uri": "https://localhost:8080/",
          "height": 50
        }
      },
      "source": [
        "#Dividing using the cut function to get different hours.\n",
        "df3=df2\n",
        "df3 = df3.assign(Request_Hour = pd.cut(df2['Request Time'].dt.components['hours'] ,[0,1,2,3,4,5,6,7,8,9,10,11,12,13,14,15,16,17,18,19,20,21,22,23,24],labels=['1-2','2-3','3-4','4-5','5-6','6-7','7-8','8-9','9-10','10-11','11-12','12-13','13-14','14-15','15-16','16-17','17-18','18-19','19-20','20-21','21-22','22-23','23-24','0-1']))\n",
        "plt.figure(figsize=(15,4))"
      ],
      "execution_count": 104,
      "outputs": [
        {
          "output_type": "execute_result",
          "data": {
            "text/plain": [
              "<Figure size 1080x288 with 0 Axes>"
            ]
          },
          "metadata": {
            "tags": []
          },
          "execution_count": 104
        },
        {
          "output_type": "display_data",
          "data": {
            "text/plain": [
              "<Figure size 1080x288 with 0 Axes>"
            ]
          },
          "metadata": {
            "tags": []
          }
        }
      ]
    },
    {
      "cell_type": "code",
      "metadata": {
        "id": "y89HVgfzCjO0",
        "colab_type": "code",
        "outputId": "f20cbf6e-3990-45ea-b66c-30b0ee29d557",
        "colab": {
          "base_uri": "https://localhost:8080/",
          "height": 365
        }
      },
      "source": [
        "df1 = df2\n",
        "df1 = df1.loc[df1['Driver id'] != 0]\n",
        "plt.figure(figsize=(100,5))\n",
        "sns.countplot(x='Driver id',hue='Status',data=df1)\n",
        "plt.show()"
      ],
      "execution_count": 69,
      "outputs": [
        {
          "output_type": "display_data",
          "data": {
            "image/png": "[encoded data removed]",
            "text/plain": [
              "<Figure size 7200x360 with 1 Axes>"
            ]
          },
          "metadata": {
            "tags": []
          }
        }
      ]
    },
    {
      "cell_type": "code",
      "metadata": {
        "id": "RWUd0GpPCjRv",
        "colab_type": "code",
        "outputId": "535aa9d2-8f0e-49b8-8284-42093dab18c0",
        "colab": {
          "base_uri": "https://localhost:8080/",
          "height": 118
        }
      },
      "source": [
        "df1 = df2\n",
        "df1 = df1.loc[df1['Pickup point'] == 'Airport']\n",
        "df1=df1.groupby('Time_Slot')\n",
        "sns.set(style=\"ticks\", color_codes=True)\n",
        "df3 = df2\n",
        "df3 = df3.drop('Driver id',axis =1)\n",
        "df3 = df3.drop('Request Date',axis =1)\n",
        "df3 = df3.drop('Request Time',axis =1)\n",
        "df3 = df3.drop('Drop Date',axis =1)\n",
        "df3 = df3.drop('Drop Time',axis =1)\n",
        "df3 = df3.drop('Duration',axis =1)\n",
        "#To count values in different Time Slots\n",
        "df3 = df3.groupby('Time_Slot')\n",
        "df3['Status'].count().sort_values(ascending = False)"
      ],
      "execution_count": 70,
      "outputs": [
        {
          "output_type": "execute_result",
          "data": {
            "text/plain": [
              "Time_Slot\n",
              "Evening      1912\n",
              "Morning      1858\n",
              "Afternoon    1554\n",
              "Night        1322\n",
              "Name: Status, dtype: int64"
            ]
          },
          "metadata": {
            "tags": []
          },
          "execution_count": 70
        }
      ]
    },
    {
      "cell_type": "markdown",
      "metadata": {
        "id": "jrkGKBwuEEK3",
        "colab_type": "text"
      },
      "source": [
        "># BIVARIATE ANALYSIS\n",
        "\n",
        "---\n",
        "\n"
      ]
    },
    {
      "cell_type": "code",
      "metadata": {
        "id": "qrbD2PyTCjU6",
        "colab_type": "code",
        "outputId": "23f11124-29b8-41b7-d173-95d8a12febeb",
        "colab": {
          "base_uri": "https://localhost:8080/",
          "height": 314
        }
      },
      "source": [
        "df1 = df2\n",
        "#Creating a pivot table \n",
        "df1.pivot_table(values = 'Request id', \n",
        "                      index = ['Time_Slot','Pickup point'], \n",
        "                      columns = 'Status', \n",
        "                      aggfunc = 'count')"
      ],
      "execution_count": 71,
      "outputs": [
        {
          "output_type": "execute_result",
          "data": {
            "text/html": [
              "<div>\n",
              "<style scoped>\n",
              "    .dataframe tbody tr th:only-of-type {\n",
              "        vertical-align: middle;\n",
              "    }\n",
              "\n",
              "    .dataframe tbody tr th {\n",
              "        vertical-align: top;\n",
              "    }\n",
              "\n",
              "    .dataframe thead th {\n",
              "        text-align: right;\n",
              "    }\n",
              "</style>\n",
              "<table border=\"1\" class=\"dataframe\">\n",
              "  <thead>\n",
              "    <tr style=\"text-align: right;\">\n",
              "      <th></th>\n",
              "      <th>Status</th>\n",
              "      <th>Cancelled</th>\n",
              "      <th>No Cars Available</th>\n",
              "      <th>Trip Completed</th>\n",
              "    </tr>\n",
              "    <tr>\n",
              "      <th>Time_Slot</th>\n",
              "      <th>Pickup point</th>\n",
              "      <th></th>\n",
              "      <th></th>\n",
              "      <th></th>\n",
              "    </tr>\n",
              "  </thead>\n",
              "  <tbody>\n",
              "    <tr>\n",
              "      <th rowspan=\"2\" valign=\"top\">Night</th>\n",
              "      <th>Airport</th>\n",
              "      <td>10</td>\n",
              "      <td>125</td>\n",
              "      <td>246</td>\n",
              "    </tr>\n",
              "    <tr>\n",
              "      <th>City</th>\n",
              "      <td>373</td>\n",
              "      <td>288</td>\n",
              "      <td>280</td>\n",
              "    </tr>\n",
              "    <tr>\n",
              "      <th rowspan=\"2\" valign=\"top\">Morning</th>\n",
              "      <th>Airport</th>\n",
              "      <td>39</td>\n",
              "      <td>51</td>\n",
              "      <td>381</td>\n",
              "    </tr>\n",
              "    <tr>\n",
              "      <th>City</th>\n",
              "      <td>579</td>\n",
              "      <td>335</td>\n",
              "      <td>473</td>\n",
              "    </tr>\n",
              "    <tr>\n",
              "      <th rowspan=\"2\" valign=\"top\">Afternoon</th>\n",
              "      <th>Airport</th>\n",
              "      <td>74</td>\n",
              "      <td>574</td>\n",
              "      <td>317</td>\n",
              "    </tr>\n",
              "    <tr>\n",
              "      <th>City</th>\n",
              "      <td>57</td>\n",
              "      <td>164</td>\n",
              "      <td>368</td>\n",
              "    </tr>\n",
              "    <tr>\n",
              "      <th rowspan=\"2\" valign=\"top\">Evening</th>\n",
              "      <th>Airport</th>\n",
              "      <td>75</td>\n",
              "      <td>933</td>\n",
              "      <td>360</td>\n",
              "    </tr>\n",
              "    <tr>\n",
              "      <th>City</th>\n",
              "      <td>54</td>\n",
              "      <td>124</td>\n",
              "      <td>366</td>\n",
              "    </tr>\n",
              "  </tbody>\n",
              "</table>\n",
              "</div>"
            ],
            "text/plain": [
              "Status                  Cancelled  No Cars Available  Trip Completed\n",
              "Time_Slot Pickup point                                              \n",
              "Night     Airport              10                125             246\n",
              "          City                373                288             280\n",
              "Morning   Airport              39                 51             381\n",
              "          City                579                335             473\n",
              "Afternoon Airport              74                574             317\n",
              "          City                 57                164             368\n",
              "Evening   Airport              75                933             360\n",
              "          City                 54                124             366"
            ]
          },
          "metadata": {
            "tags": []
          },
          "execution_count": 71
        }
      ]
    },
    {
      "cell_type": "code",
      "metadata": {
        "id": "x1zgekb0CjX3",
        "colab_type": "code",
        "outputId": "b57f0f51-dc2a-4f2e-860d-63f575a18041",
        "colab": {
          "base_uri": "https://localhost:8080/",
          "height": 195
        }
      },
      "source": [
        "df3 = df1.loc[df1['Pickup point']=='Airport']\n",
        "df00 =df3.pivot_table(values = 'Request id', \n",
        "                      index = 'Time_Slot', \n",
        "                      columns = 'Status', \n",
        "                      aggfunc = 'count')\n",
        "#Making the index as a separate column\n",
        "df00['Time_Slot']=df00.index\n",
        "df00"
      ],
      "execution_count": 72,
      "outputs": [
        {
          "output_type": "execute_result",
          "data": {
            "text/html": [
              "<div>\n",
              "<style scoped>\n",
              "    .dataframe tbody tr th:only-of-type {\n",
              "        vertical-align: middle;\n",
              "    }\n",
              "\n",
              "    .dataframe tbody tr th {\n",
              "        vertical-align: top;\n",
              "    }\n",
              "\n",
              "    .dataframe thead th {\n",
              "        text-align: right;\n",
              "    }\n",
              "</style>\n",
              "<table border=\"1\" class=\"dataframe\">\n",
              "  <thead>\n",
              "    <tr style=\"text-align: right;\">\n",
              "      <th>Status</th>\n",
              "      <th>Cancelled</th>\n",
              "      <th>No Cars Available</th>\n",
              "      <th>Trip Completed</th>\n",
              "      <th>Time_Slot</th>\n",
              "    </tr>\n",
              "    <tr>\n",
              "      <th>Time_Slot</th>\n",
              "      <th></th>\n",
              "      <th></th>\n",
              "      <th></th>\n",
              "      <th></th>\n",
              "    </tr>\n",
              "  </thead>\n",
              "  <tbody>\n",
              "    <tr>\n",
              "      <th>Night</th>\n",
              "      <td>10</td>\n",
              "      <td>125</td>\n",
              "      <td>246</td>\n",
              "      <td>Night</td>\n",
              "    </tr>\n",
              "    <tr>\n",
              "      <th>Morning</th>\n",
              "      <td>39</td>\n",
              "      <td>51</td>\n",
              "      <td>381</td>\n",
              "      <td>Morning</td>\n",
              "    </tr>\n",
              "    <tr>\n",
              "      <th>Afternoon</th>\n",
              "      <td>74</td>\n",
              "      <td>574</td>\n",
              "      <td>317</td>\n",
              "      <td>Afternoon</td>\n",
              "    </tr>\n",
              "    <tr>\n",
              "      <th>Evening</th>\n",
              "      <td>75</td>\n",
              "      <td>933</td>\n",
              "      <td>360</td>\n",
              "      <td>Evening</td>\n",
              "    </tr>\n",
              "  </tbody>\n",
              "</table>\n",
              "</div>"
            ],
            "text/plain": [
              "Status     Cancelled  No Cars Available  Trip Completed  Time_Slot\n",
              "Time_Slot                                                         \n",
              "Night             10                125             246      Night\n",
              "Morning           39                 51             381    Morning\n",
              "Afternoon         74                574             317  Afternoon\n",
              "Evening           75                933             360    Evening"
            ]
          },
          "metadata": {
            "tags": []
          },
          "execution_count": 72
        }
      ]
    },
    {
      "cell_type": "code",
      "metadata": {
        "id": "1JhugSmHCja8",
        "colab_type": "code",
        "outputId": "54493b13-2ddb-4ec2-9b16-3bd362c33b09",
        "colab": {
          "base_uri": "https://localhost:8080/",
          "height": 166
        }
      },
      "source": [
        "df00.corr()"
      ],
      "execution_count": 73,
      "outputs": [
        {
          "output_type": "execute_result",
          "data": {
            "text/html": [
              "<div>\n",
              "<style scoped>\n",
              "    .dataframe tbody tr th:only-of-type {\n",
              "        vertical-align: middle;\n",
              "    }\n",
              "\n",
              "    .dataframe tbody tr th {\n",
              "        vertical-align: top;\n",
              "    }\n",
              "\n",
              "    .dataframe thead th {\n",
              "        text-align: right;\n",
              "    }\n",
              "</style>\n",
              "<table border=\"1\" class=\"dataframe\">\n",
              "  <thead>\n",
              "    <tr style=\"text-align: right;\">\n",
              "      <th>Status</th>\n",
              "      <th>Cancelled</th>\n",
              "      <th>No Cars Available</th>\n",
              "      <th>Trip Completed</th>\n",
              "    </tr>\n",
              "    <tr>\n",
              "      <th>Status</th>\n",
              "      <th></th>\n",
              "      <th></th>\n",
              "      <th></th>\n",
              "    </tr>\n",
              "  </thead>\n",
              "  <tbody>\n",
              "    <tr>\n",
              "      <th>Cancelled</th>\n",
              "      <td>1.000000</td>\n",
              "      <td>0.838913</td>\n",
              "      <td>0.578606</td>\n",
              "    </tr>\n",
              "    <tr>\n",
              "      <th>No Cars Available</th>\n",
              "      <td>0.838913</td>\n",
              "      <td>1.000000</td>\n",
              "      <td>0.262539</td>\n",
              "    </tr>\n",
              "    <tr>\n",
              "      <th>Trip Completed</th>\n",
              "      <td>0.578606</td>\n",
              "      <td>0.262539</td>\n",
              "      <td>1.000000</td>\n",
              "    </tr>\n",
              "  </tbody>\n",
              "</table>\n",
              "</div>"
            ],
            "text/plain": [
              "Status             Cancelled  No Cars Available  Trip Completed\n",
              "Status                                                         \n",
              "Cancelled           1.000000           0.838913        0.578606\n",
              "No Cars Available   0.838913           1.000000        0.262539\n",
              "Trip Completed      0.578606           0.262539        1.000000"
            ]
          },
          "metadata": {
            "tags": []
          },
          "execution_count": 73
        }
      ]
    },
    {
      "cell_type": "code",
      "metadata": {
        "id": "wY9Rrp6KCjd-",
        "colab_type": "code",
        "outputId": "68aab858-d405-4362-a6c9-e3fa802596cb",
        "colab": {
          "base_uri": "https://localhost:8080/",
          "height": 195
        }
      },
      "source": [
        "#Creating a column with Total Requests by summing up other columns\n",
        "df00['Total_Requests']=df00['Cancelled']+df00['No Cars Available']+df00['Trip Completed']\n",
        "#Calculating percentage of the given column \n",
        "df00['Trip Completed %']=round((df00['Trip Completed']/df00['Total_Requests'])*100,2) \n",
        "df00['No Cars Available %']=round((df00['No Cars Available']/df00['Total_Requests'])*100,2)\n",
        "df00['Cancelled %']=round((df00['Cancelled']/df00['Total_Requests'])*100,2)\n",
        "#Locating pickup point = City\n",
        "df3 = df1.loc[df1['Pickup point']=='City']\n",
        "df01 =df3.pivot_table(values = 'Request id', \n",
        "                      index = 'Time_Slot', \n",
        "                      columns = 'Status', \n",
        "                      aggfunc = 'count')\n",
        "df01['Time_Slot']=df01.index\n",
        "#Repeating the steps again as done above\n",
        "df01['Total_Requests']=df01['Cancelled']+df01['No Cars Available']+df01['Trip Completed']\n",
        "df01['Trip Completed %']=round((df01['Trip Completed']/df01['Total_Requests'])*100,2) \n",
        "df01['No Cars Available %']=round((df01['No Cars Available']/df01['Total_Requests'])*100,2)\n",
        "df01['Cancelled %']=round((df01['Cancelled']/df01['Total_Requests'])*100,2)\n",
        "df00"
      ],
      "execution_count": 74,
      "outputs": [
        {
          "output_type": "execute_result",
          "data": {
            "text/html": [
              "<div>\n",
              "<style scoped>\n",
              "    .dataframe tbody tr th:only-of-type {\n",
              "        vertical-align: middle;\n",
              "    }\n",
              "\n",
              "    .dataframe tbody tr th {\n",
              "        vertical-align: top;\n",
              "    }\n",
              "\n",
              "    .dataframe thead th {\n",
              "        text-align: right;\n",
              "    }\n",
              "</style>\n",
              "<table border=\"1\" class=\"dataframe\">\n",
              "  <thead>\n",
              "    <tr style=\"text-align: right;\">\n",
              "      <th>Status</th>\n",
              "      <th>Cancelled</th>\n",
              "      <th>No Cars Available</th>\n",
              "      <th>Trip Completed</th>\n",
              "      <th>Time_Slot</th>\n",
              "      <th>Total_Requests</th>\n",
              "      <th>Trip Completed %</th>\n",
              "      <th>No Cars Available %</th>\n",
              "      <th>Cancelled %</th>\n",
              "    </tr>\n",
              "    <tr>\n",
              "      <th>Time_Slot</th>\n",
              "      <th></th>\n",
              "      <th></th>\n",
              "      <th></th>\n",
              "      <th></th>\n",
              "      <th></th>\n",
              "      <th></th>\n",
              "      <th></th>\n",
              "      <th></th>\n",
              "    </tr>\n",
              "  </thead>\n",
              "  <tbody>\n",
              "    <tr>\n",
              "      <th>Night</th>\n",
              "      <td>10</td>\n",
              "      <td>125</td>\n",
              "      <td>246</td>\n",
              "      <td>Night</td>\n",
              "      <td>381</td>\n",
              "      <td>64.57</td>\n",
              "      <td>32.81</td>\n",
              "      <td>2.62</td>\n",
              "    </tr>\n",
              "    <tr>\n",
              "      <th>Morning</th>\n",
              "      <td>39</td>\n",
              "      <td>51</td>\n",
              "      <td>381</td>\n",
              "      <td>Morning</td>\n",
              "      <td>471</td>\n",
              "      <td>80.89</td>\n",
              "      <td>10.83</td>\n",
              "      <td>8.28</td>\n",
              "    </tr>\n",
              "    <tr>\n",
              "      <th>Afternoon</th>\n",
              "      <td>74</td>\n",
              "      <td>574</td>\n",
              "      <td>317</td>\n",
              "      <td>Afternoon</td>\n",
              "      <td>965</td>\n",
              "      <td>32.85</td>\n",
              "      <td>59.48</td>\n",
              "      <td>7.67</td>\n",
              "    </tr>\n",
              "    <tr>\n",
              "      <th>Evening</th>\n",
              "      <td>75</td>\n",
              "      <td>933</td>\n",
              "      <td>360</td>\n",
              "      <td>Evening</td>\n",
              "      <td>1368</td>\n",
              "      <td>26.32</td>\n",
              "      <td>68.20</td>\n",
              "      <td>5.48</td>\n",
              "    </tr>\n",
              "  </tbody>\n",
              "</table>\n",
              "</div>"
            ],
            "text/plain": [
              "Status     Cancelled  No Cars Available  ...  No Cars Available % Cancelled %\n",
              "Time_Slot                                ...                                 \n",
              "Night             10                125  ...                32.81        2.62\n",
              "Morning           39                 51  ...                10.83        8.28\n",
              "Afternoon         74                574  ...                59.48        7.67\n",
              "Evening           75                933  ...                68.20        5.48\n",
              "\n",
              "[4 rows x 8 columns]"
            ]
          },
          "metadata": {
            "tags": []
          },
          "execution_count": 74
        }
      ]
    },
    {
      "cell_type": "code",
      "metadata": {
        "id": "K1oykb41Cjgl",
        "colab_type": "code",
        "outputId": "79ff59dc-651f-48e1-e415-fd86670bc78d",
        "colab": {
          "base_uri": "https://localhost:8080/",
          "height": 195
        }
      },
      "source": [
        "df01"
      ],
      "execution_count": 75,
      "outputs": [
        {
          "output_type": "execute_result",
          "data": {
            "text/html": [
              "<div>\n",
              "<style scoped>\n",
              "    .dataframe tbody tr th:only-of-type {\n",
              "        vertical-align: middle;\n",
              "    }\n",
              "\n",
              "    .dataframe tbody tr th {\n",
              "        vertical-align: top;\n",
              "    }\n",
              "\n",
              "    .dataframe thead th {\n",
              "        text-align: right;\n",
              "    }\n",
              "</style>\n",
              "<table border=\"1\" class=\"dataframe\">\n",
              "  <thead>\n",
              "    <tr style=\"text-align: right;\">\n",
              "      <th>Status</th>\n",
              "      <th>Cancelled</th>\n",
              "      <th>No Cars Available</th>\n",
              "      <th>Trip Completed</th>\n",
              "      <th>Time_Slot</th>\n",
              "      <th>Total_Requests</th>\n",
              "      <th>Trip Completed %</th>\n",
              "      <th>No Cars Available %</th>\n",
              "      <th>Cancelled %</th>\n",
              "    </tr>\n",
              "    <tr>\n",
              "      <th>Time_Slot</th>\n",
              "      <th></th>\n",
              "      <th></th>\n",
              "      <th></th>\n",
              "      <th></th>\n",
              "      <th></th>\n",
              "      <th></th>\n",
              "      <th></th>\n",
              "      <th></th>\n",
              "    </tr>\n",
              "  </thead>\n",
              "  <tbody>\n",
              "    <tr>\n",
              "      <th>Night</th>\n",
              "      <td>373</td>\n",
              "      <td>288</td>\n",
              "      <td>280</td>\n",
              "      <td>Night</td>\n",
              "      <td>941</td>\n",
              "      <td>29.76</td>\n",
              "      <td>30.61</td>\n",
              "      <td>39.64</td>\n",
              "    </tr>\n",
              "    <tr>\n",
              "      <th>Morning</th>\n",
              "      <td>579</td>\n",
              "      <td>335</td>\n",
              "      <td>473</td>\n",
              "      <td>Morning</td>\n",
              "      <td>1387</td>\n",
              "      <td>34.10</td>\n",
              "      <td>24.15</td>\n",
              "      <td>41.74</td>\n",
              "    </tr>\n",
              "    <tr>\n",
              "      <th>Afternoon</th>\n",
              "      <td>57</td>\n",
              "      <td>164</td>\n",
              "      <td>368</td>\n",
              "      <td>Afternoon</td>\n",
              "      <td>589</td>\n",
              "      <td>62.48</td>\n",
              "      <td>27.84</td>\n",
              "      <td>9.68</td>\n",
              "    </tr>\n",
              "    <tr>\n",
              "      <th>Evening</th>\n",
              "      <td>54</td>\n",
              "      <td>124</td>\n",
              "      <td>366</td>\n",
              "      <td>Evening</td>\n",
              "      <td>544</td>\n",
              "      <td>67.28</td>\n",
              "      <td>22.79</td>\n",
              "      <td>9.93</td>\n",
              "    </tr>\n",
              "  </tbody>\n",
              "</table>\n",
              "</div>"
            ],
            "text/plain": [
              "Status     Cancelled  No Cars Available  ...  No Cars Available % Cancelled %\n",
              "Time_Slot                                ...                                 \n",
              "Night            373                288  ...                30.61       39.64\n",
              "Morning          579                335  ...                24.15       41.74\n",
              "Afternoon         57                164  ...                27.84        9.68\n",
              "Evening           54                124  ...                22.79        9.93\n",
              "\n",
              "[4 rows x 8 columns]"
            ]
          },
          "metadata": {
            "tags": []
          },
          "execution_count": 75
        }
      ]
    },
    {
      "cell_type": "code",
      "metadata": {
        "id": "9sAKy6dYCjkP",
        "colab_type": "code",
        "outputId": "ffc5ca5c-ed27-440e-8c8b-d57cc87ec6c4",
        "colab": {
          "base_uri": "https://localhost:8080/",
          "height": 308
        }
      },
      "source": [
        "sns.barplot(x='Time_Slot',y='Trip Completed %',data=df00)"
      ],
      "execution_count": 76,
      "outputs": [
        {
          "output_type": "execute_result",
          "data": {
            "text/plain": [
              "<matplotlib.axes._subplots.AxesSubplot at 0x7f1f3226ca90>"
            ]
          },
          "metadata": {
            "tags": []
          },
          "execution_count": 76
        },
        {
          "output_type": "display_data",
          "data": {
            "image/png": "[encoded data removed]",
            "text/plain": [
              "<Figure size 432x288 with 1 Axes>"
            ]
          },
          "metadata": {
            "tags": []
          }
        }
      ]
    },
    {
      "cell_type": "code",
      "metadata": {
        "id": "3HYIjB4YFxE6",
        "colab_type": "code",
        "outputId": "1ff8ffb7-89d1-44ee-8412-0de1fc1a1569",
        "colab": {
          "base_uri": "https://localhost:8080/",
          "height": 382
        }
      },
      "source": [
        "sns.catplot(x=\"Time_Slot\", y=\"Trip Completed %\", kind=\"point\", data=df00)"
      ],
      "execution_count": 77,
      "outputs": [
        {
          "output_type": "execute_result",
          "data": {
            "text/plain": [
              "<seaborn.axisgrid.FacetGrid at 0x7f1f3225a9b0>"
            ]
          },
          "metadata": {
            "tags": []
          },
          "execution_count": 77
        },
        {
          "output_type": "display_data",
          "data": {
            "image/png": "[encoded data removed]",
            "text/plain": [
              "<Figure size 360x360 with 1 Axes>"
            ]
          },
          "metadata": {
            "tags": []
          }
        }
      ]
    },
    {
      "cell_type": "markdown",
      "metadata": {
        "id": "_uOQeCKRGZEJ",
        "colab_type": "text"
      },
      "source": [
        "># MULTIVARIATE ANALYSIS\n",
        "\n",
        "---\n",
        "\n"
      ]
    },
    {
      "cell_type": "code",
      "metadata": {
        "id": "gw93Ln95FxS5",
        "colab_type": "code",
        "outputId": "a94de236-a72f-433f-a4af-ceb4ff7cbd7e",
        "colab": {
          "base_uri": "https://localhost:8080/",
          "height": 402
        }
      },
      "source": [
        "#Using the melt function to obtain Status as a separate column\n",
        "df001 = pd.melt(df01,id_vars=['Time_Slot'],value_vars=['Trip Completed','No Cars Available','Cancelled'])\n",
        "df001"
      ],
      "execution_count": 78,
      "outputs": [
        {
          "output_type": "execute_result",
          "data": {
            "text/html": [
              "<div>\n",
              "<style scoped>\n",
              "    .dataframe tbody tr th:only-of-type {\n",
              "        vertical-align: middle;\n",
              "    }\n",
              "\n",
              "    .dataframe tbody tr th {\n",
              "        vertical-align: top;\n",
              "    }\n",
              "\n",
              "    .dataframe thead th {\n",
              "        text-align: right;\n",
              "    }\n",
              "</style>\n",
              "<table border=\"1\" class=\"dataframe\">\n",
              "  <thead>\n",
              "    <tr style=\"text-align: right;\">\n",
              "      <th></th>\n",
              "      <th>Time_Slot</th>\n",
              "      <th>Status</th>\n",
              "      <th>value</th>\n",
              "    </tr>\n",
              "  </thead>\n",
              "  <tbody>\n",
              "    <tr>\n",
              "      <th>0</th>\n",
              "      <td>Night</td>\n",
              "      <td>Trip Completed</td>\n",
              "      <td>280</td>\n",
              "    </tr>\n",
              "    <tr>\n",
              "      <th>1</th>\n",
              "      <td>Morning</td>\n",
              "      <td>Trip Completed</td>\n",
              "      <td>473</td>\n",
              "    </tr>\n",
              "    <tr>\n",
              "      <th>2</th>\n",
              "      <td>Afternoon</td>\n",
              "      <td>Trip Completed</td>\n",
              "      <td>368</td>\n",
              "    </tr>\n",
              "    <tr>\n",
              "      <th>3</th>\n",
              "      <td>Evening</td>\n",
              "      <td>Trip Completed</td>\n",
              "      <td>366</td>\n",
              "    </tr>\n",
              "    <tr>\n",
              "      <th>4</th>\n",
              "      <td>Night</td>\n",
              "      <td>No Cars Available</td>\n",
              "      <td>288</td>\n",
              "    </tr>\n",
              "    <tr>\n",
              "      <th>5</th>\n",
              "      <td>Morning</td>\n",
              "      <td>No Cars Available</td>\n",
              "      <td>335</td>\n",
              "    </tr>\n",
              "    <tr>\n",
              "      <th>6</th>\n",
              "      <td>Afternoon</td>\n",
              "      <td>No Cars Available</td>\n",
              "      <td>164</td>\n",
              "    </tr>\n",
              "    <tr>\n",
              "      <th>7</th>\n",
              "      <td>Evening</td>\n",
              "      <td>No Cars Available</td>\n",
              "      <td>124</td>\n",
              "    </tr>\n",
              "    <tr>\n",
              "      <th>8</th>\n",
              "      <td>Night</td>\n",
              "      <td>Cancelled</td>\n",
              "      <td>373</td>\n",
              "    </tr>\n",
              "    <tr>\n",
              "      <th>9</th>\n",
              "      <td>Morning</td>\n",
              "      <td>Cancelled</td>\n",
              "      <td>579</td>\n",
              "    </tr>\n",
              "    <tr>\n",
              "      <th>10</th>\n",
              "      <td>Afternoon</td>\n",
              "      <td>Cancelled</td>\n",
              "      <td>57</td>\n",
              "    </tr>\n",
              "    <tr>\n",
              "      <th>11</th>\n",
              "      <td>Evening</td>\n",
              "      <td>Cancelled</td>\n",
              "      <td>54</td>\n",
              "    </tr>\n",
              "  </tbody>\n",
              "</table>\n",
              "</div>"
            ],
            "text/plain": [
              "    Time_Slot             Status  value\n",
              "0       Night     Trip Completed    280\n",
              "1     Morning     Trip Completed    473\n",
              "2   Afternoon     Trip Completed    368\n",
              "3     Evening     Trip Completed    366\n",
              "4       Night  No Cars Available    288\n",
              "5     Morning  No Cars Available    335\n",
              "6   Afternoon  No Cars Available    164\n",
              "7     Evening  No Cars Available    124\n",
              "8       Night          Cancelled    373\n",
              "9     Morning          Cancelled    579\n",
              "10  Afternoon          Cancelled     57\n",
              "11    Evening          Cancelled     54"
            ]
          },
          "metadata": {
            "tags": []
          },
          "execution_count": 78
        }
      ]
    },
    {
      "cell_type": "code",
      "metadata": {
        "id": "AzCkj_KTFxVy",
        "colab_type": "code",
        "outputId": "a47ff813-3617-4462-8a57-f38596b4429d",
        "colab": {
          "base_uri": "https://localhost:8080/",
          "height": 382
        }
      },
      "source": [
        "#Plotting Point Graph\n",
        "sns.catplot(x=\"Time_Slot\", y=\"value\", kind=\"point\",hue ='Status', markers=[\"^\", \"o\",\"*\"], linestyles=[\"-\", \"--\",\"--\"],data=df001)"
      ],
      "execution_count": 79,
      "outputs": [
        {
          "output_type": "execute_result",
          "data": {
            "text/plain": [
              "<seaborn.axisgrid.FacetGrid at 0x7f1f329c1d30>"
            ]
          },
          "metadata": {
            "tags": []
          },
          "execution_count": 79
        },
        {
          "output_type": "display_data",
          "data": {
            "image/png": "[encoded data removed]",
            "text/plain": [
              "<Figure size 497.1x360 with 1 Axes>"
            ]
          },
          "metadata": {
            "tags": []
          }
        }
      ]
    },
    {
      "cell_type": "code",
      "metadata": {
        "id": "_fbancmSFxY2",
        "colab_type": "code",
        "outputId": "5899fe2f-b6d2-4942-c3ab-8d8526d753a4",
        "colab": {
          "base_uri": "https://localhost:8080/",
          "height": 382
        }
      },
      "source": [
        "#Using the melt function to obtain Status as a separate column\n",
        "df002 = pd.melt(df00,id_vars=['Time_Slot'],value_vars=['Trip Completed','No Cars Available','Cancelled'])\n",
        "#Plotting Point graph\n",
        "sns.catplot(x=\"Time_Slot\", y=\"value\", kind=\"point\",hue ='Status', markers=[\"^\", \"o\",\"*\"], linestyles=[\"-\", \"--\",\"--\"],data=df002)"
      ],
      "execution_count": 80,
      "outputs": [
        {
          "output_type": "execute_result",
          "data": {
            "text/plain": [
              "<seaborn.axisgrid.FacetGrid at 0x7f1f329c1da0>"
            ]
          },
          "metadata": {
            "tags": []
          },
          "execution_count": 80
        },
        {
          "output_type": "display_data",
          "data": {
            "image/png": "[encoded data removed]",
            "text/plain": [
              "<Figure size 497.1x360 with 1 Axes>"
            ]
          },
          "metadata": {
            "tags": []
          }
        }
      ]
    }
  ]
}